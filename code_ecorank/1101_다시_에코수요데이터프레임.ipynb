{
 "cells": [
  {
   "cell_type": "code",
   "execution_count": 14,
   "id": "db2f7cf1",
   "metadata": {},
   "outputs": [],
   "source": [
    "import pandas as pd\n",
    "import numpy as np\n",
    "\n",
    "import requests\n",
    "import openpyxl as xl\n",
    "import time\n",
    "import json\n",
    "\n",
    "from sklearn import preprocessing\n",
    "\n",
    "from sklearn.preprocessing import MinMaxScaler\n",
    "from sklearn.preprocessing import StandardScaler\n",
    "from sklearn.preprocessing import RobustScaler\n",
    "\n",
    "import warnings\n",
    "warnings.filterwarnings(action='ignore') # 경고메세지 숨기기"
   ]
  },
  {
   "cell_type": "markdown",
   "id": "403941d6",
   "metadata": {},
   "source": [
    "## 1) 서울시 대기오염 측정정보\n",
    "- 구 코드 : 서울시 대기오염 측정소 정보\n",
    "- 값 : 서울시 대기오염 측정항목 정보"
   ]
  },
  {
   "cell_type": "code",
   "execution_count": 173,
   "id": "8110d402",
   "metadata": {},
   "outputs": [
    {
     "data": {
      "text/html": [
       "<div>\n",
       "<style scoped>\n",
       "    .dataframe tbody tr th:only-of-type {\n",
       "        vertical-align: middle;\n",
       "    }\n",
       "\n",
       "    .dataframe tbody tr th {\n",
       "        vertical-align: top;\n",
       "    }\n",
       "\n",
       "    .dataframe thead th {\n",
       "        text-align: right;\n",
       "    }\n",
       "</style>\n",
       "<table border=\"1\" class=\"dataframe\">\n",
       "  <thead>\n",
       "    <tr style=\"text-align: right;\">\n",
       "      <th></th>\n",
       "      <th>loc_code</th>\n",
       "      <th>item_code</th>\n",
       "      <th>data_value</th>\n",
       "      <th>data_state</th>\n",
       "    </tr>\n",
       "  </thead>\n",
       "  <tbody>\n",
       "    <tr>\n",
       "      <th>92</th>\n",
       "      <td>124</td>\n",
       "      <td>8</td>\n",
       "      <td>23.0</td>\n",
       "      <td>0</td>\n",
       "    </tr>\n",
       "    <tr>\n",
       "      <th>106</th>\n",
       "      <td>123</td>\n",
       "      <td>8</td>\n",
       "      <td>22.0</td>\n",
       "      <td>0</td>\n",
       "    </tr>\n",
       "    <tr>\n",
       "      <th>109</th>\n",
       "      <td>102</td>\n",
       "      <td>8</td>\n",
       "      <td>29.0</td>\n",
       "      <td>0</td>\n",
       "    </tr>\n",
       "    <tr>\n",
       "      <th>203</th>\n",
       "      <td>102</td>\n",
       "      <td>8</td>\n",
       "      <td>38.0</td>\n",
       "      <td>0</td>\n",
       "    </tr>\n",
       "    <tr>\n",
       "      <th>262</th>\n",
       "      <td>123</td>\n",
       "      <td>8</td>\n",
       "      <td>32.0</td>\n",
       "      <td>0</td>\n",
       "    </tr>\n",
       "    <tr>\n",
       "      <th>...</th>\n",
       "      <td>...</td>\n",
       "      <td>...</td>\n",
       "      <td>...</td>\n",
       "      <td>...</td>\n",
       "    </tr>\n",
       "    <tr>\n",
       "      <th>1048423</th>\n",
       "      <td>102</td>\n",
       "      <td>8</td>\n",
       "      <td>26.0</td>\n",
       "      <td>0</td>\n",
       "    </tr>\n",
       "    <tr>\n",
       "      <th>1048431</th>\n",
       "      <td>124</td>\n",
       "      <td>8</td>\n",
       "      <td>33.0</td>\n",
       "      <td>0</td>\n",
       "    </tr>\n",
       "    <tr>\n",
       "      <th>1048519</th>\n",
       "      <td>102</td>\n",
       "      <td>8</td>\n",
       "      <td>22.0</td>\n",
       "      <td>0</td>\n",
       "    </tr>\n",
       "    <tr>\n",
       "      <th>1048527</th>\n",
       "      <td>124</td>\n",
       "      <td>8</td>\n",
       "      <td>36.0</td>\n",
       "      <td>0</td>\n",
       "    </tr>\n",
       "    <tr>\n",
       "      <th>1048548</th>\n",
       "      <td>123</td>\n",
       "      <td>8</td>\n",
       "      <td>24.0</td>\n",
       "      <td>0</td>\n",
       "    </tr>\n",
       "  </tbody>\n",
       "</table>\n",
       "<p>20595 rows × 4 columns</p>\n",
       "</div>"
      ],
      "text/plain": [
       "         loc_code  item_code  data_value  data_state\n",
       "92            124          8        23.0           0\n",
       "106           123          8        22.0           0\n",
       "109           102          8        29.0           0\n",
       "203           102          8        38.0           0\n",
       "262           123          8        32.0           0\n",
       "...           ...        ...         ...         ...\n",
       "1048423       102          8        26.0           0\n",
       "1048431       124          8        33.0           0\n",
       "1048519       102          8        22.0           0\n",
       "1048527       124          8        36.0           0\n",
       "1048548       123          8        24.0           0\n",
       "\n",
       "[20595 rows x 4 columns]"
      ]
     },
     "execution_count": 173,
     "metadata": {},
     "output_type": "execute_result"
    }
   ],
   "source": [
    "aira = pd.read_csv(\"AIR_HOUR_2020.csv\")\n",
    "aira = aira[[\"loc_code\",\"item_code\", \"data_value\",\"data_state\"]]\n",
    "aira = aira[aira[\"data_state\"]==0][aira[\"item_code\"]==8] # 정상인 측정기"
   ]
  },
  {
   "cell_type": "code",
   "execution_count": 174,
   "id": "f17581b9",
   "metadata": {},
   "outputs": [
    {
     "data": {
      "text/plain": [
       "array([107, 117, 113, 121, 120, 119, 115, 112, 109, 106, 104, 103, 101,\n",
       "       105, 116, 124, 125, 123, 102, 122, 118, 114, 111, 110, 108],\n",
       "      dtype=int64)"
      ]
     },
     "execution_count": 174,
     "metadata": {},
     "output_type": "execute_result"
    }
   ],
   "source": [
    "aira.loc_code.unique()"
   ]
  },
  {
   "cell_type": "code",
   "execution_count": null,
   "id": "c47b5ff4",
   "metadata": {},
   "outputs": [],
   "source": [
    "for i in aira.loc_code.unique():\n",
    "    dirty[dirty[\"loc_code\"]==123]\n",
    "    "
   ]
  },
  {
   "cell_type": "code",
   "execution_count": null,
   "id": "ef0b4173",
   "metadata": {},
   "outputs": [],
   "source": []
  },
  {
   "cell_type": "code",
   "execution_count": null,
   "id": "48d38d65",
   "metadata": {},
   "outputs": [],
   "source": []
  },
  {
   "cell_type": "code",
   "execution_count": null,
   "id": "4941a624",
   "metadata": {},
   "outputs": [],
   "source": []
  },
  {
   "cell_type": "code",
   "execution_count": null,
   "id": "35eb2c17",
   "metadata": {},
   "outputs": [],
   "source": []
  },
  {
   "cell_type": "code",
   "execution_count": null,
   "id": "2cc01a77",
   "metadata": {},
   "outputs": [],
   "source": []
  },
  {
   "cell_type": "code",
   "execution_count": null,
   "id": "c54489bb",
   "metadata": {},
   "outputs": [],
   "source": []
  },
  {
   "cell_type": "code",
   "execution_count": 152,
   "id": "f3a7ae40",
   "metadata": {},
   "outputs": [],
   "source": [
    "d_gn = dirty[dirty[\"loc_code\"]==123]\n",
    "d_sp = dirty[dirty[\"loc_code\"]==124]\n",
    "d_j = dirty[dirty[\"loc_code\"]==102]"
   ]
  },
  {
   "cell_type": "code",
   "execution_count": 153,
   "id": "2f0b2016",
   "metadata": {},
   "outputs": [],
   "source": [
    "# data_value : 평균 대기오염 확인\n",
    "value_gn = d_gn.data_value.sum() / len(d_gn.data_value) # 모든 값을 다 합한 뒤 길이값으로 나눠줌\n",
    "value_gn = round(value_gn,6)\n",
    "\n",
    "value_sp = d_sp.data_value.sum() / len(d_sp.data_value)\n",
    "value_sp = round(value_sp,6)\n",
    "\n",
    "value_j = d_j.data_value.sum() / len(d_j.data_value)\n",
    "value_j = round(value_j,6)"
   ]
  },
  {
   "cell_type": "code",
   "execution_count": 154,
   "id": "acf9d5f6",
   "metadata": {},
   "outputs": [
    {
     "data": {
      "text/plain": [
       "31.975607"
      ]
     },
     "execution_count": 154,
     "metadata": {},
     "output_type": "execute_result"
    }
   ],
   "source": [
    "value_gn "
   ]
  },
  {
   "cell_type": "code",
   "execution_count": 155,
   "id": "61df4233",
   "metadata": {},
   "outputs": [
    {
     "data": {
      "text/plain": [
       "34.36996"
      ]
     },
     "execution_count": 155,
     "metadata": {},
     "output_type": "execute_result"
    }
   ],
   "source": [
    "value_sp"
   ]
  },
  {
   "cell_type": "code",
   "execution_count": 156,
   "id": "ddc2bc9f",
   "metadata": {},
   "outputs": [
    {
     "data": {
      "text/plain": [
       "35.767542"
      ]
     },
     "execution_count": 156,
     "metadata": {},
     "output_type": "execute_result"
    }
   ],
   "source": [
    "value_j"
   ]
  },
  {
   "cell_type": "code",
   "execution_count": 4,
   "id": "2385d2c1",
   "metadata": {},
   "outputs": [
    {
     "data": {
      "text/plain": [
       "13.4944"
      ]
     },
     "execution_count": 4,
     "metadata": {},
     "output_type": "execute_result"
    }
   ],
   "source": [
    "round(45.470009 - 31.975607, 4)"
   ]
  },
  {
   "cell_type": "code",
   "execution_count": 5,
   "id": "89d45d48",
   "metadata": {},
   "outputs": [
    {
     "data": {
      "text/plain": [
       "11.072"
      ]
     },
     "execution_count": 5,
     "metadata": {},
     "output_type": "execute_result"
    }
   ],
   "source": [
    "round(45.441963 - 34.36996, 4)"
   ]
  },
  {
   "cell_type": "code",
   "execution_count": 6,
   "id": "4379c8f1",
   "metadata": {},
   "outputs": [
    {
     "data": {
      "text/plain": [
       "4.5129"
      ]
     },
     "execution_count": 6,
     "metadata": {},
     "output_type": "execute_result"
    }
   ],
   "source": [
    "round(40.280403 - 35.767542, 4)"
   ]
  },
  {
   "cell_type": "code",
   "execution_count": null,
   "id": "21f2285a",
   "metadata": {},
   "outputs": [],
   "source": []
  },
  {
   "cell_type": "code",
   "execution_count": null,
   "id": "aba235d3",
   "metadata": {},
   "outputs": [],
   "source": []
  },
  {
   "cell_type": "markdown",
   "id": "ec9d70ee",
   "metadata": {},
   "source": [
    "#### 2017 확인"
   ]
  },
  {
   "cell_type": "code",
   "execution_count": 162,
   "id": "12f9056d",
   "metadata": {},
   "outputs": [],
   "source": [
    "air7 = pd.read_csv(\"AIR_HOUR_2017.csv\")"
   ]
  },
  {
   "cell_type": "code",
   "execution_count": 161,
   "id": "cbd819bd",
   "metadata": {},
   "outputs": [
    {
     "data": {
      "text/plain": [
       "Index(['측정일시', '측정소 코드', '측정항목 코드', '평균값', '측정기 상태', '국가 기준초과 구분',\n",
       "       '지자체 지군초과 구분'],\n",
       "      dtype='object')"
      ]
     },
     "execution_count": 161,
     "metadata": {},
     "output_type": "execute_result"
    }
   ],
   "source": [
    "air7.columns"
   ]
  },
  {
   "cell_type": "code",
   "execution_count": 167,
   "id": "4dd05414",
   "metadata": {},
   "outputs": [],
   "source": [
    "aira = air7.copy()\n",
    "\n",
    "aira = aira[[\"loc_code\",\"item_code\", \"data_value\",\"data_state\"]]\n",
    "aira = aira[aira[\"data_state\"]==0][aira[\"item_code\"]==8] # 정상인 측정기\n",
    "dirty = aira[(aira[\"loc_code\"]==123)|(aira[\"loc_code\"]==124)|(aira[\"loc_code\"]==102)]"
   ]
  },
  {
   "cell_type": "code",
   "execution_count": 168,
   "id": "cdbf6369",
   "metadata": {},
   "outputs": [],
   "source": [
    "d_gn = dirty[dirty[\"loc_code\"]==123]\n",
    "d_sp = dirty[dirty[\"loc_code\"]==124]\n",
    "d_j = dirty[dirty[\"loc_code\"]==102]"
   ]
  },
  {
   "cell_type": "code",
   "execution_count": 169,
   "id": "27c53549",
   "metadata": {},
   "outputs": [],
   "source": [
    "# data_value : 평균 대기오염 확인\n",
    "value_gn = d_gn.data_value.sum() / len(d_gn.data_value) # 모든 값을 다 합한 뒤 길이값으로 나눠줌\n",
    "value_gn = round(value_gn,6)\n",
    "\n",
    "value_sp = d_sp.data_value.sum() / len(d_sp.data_value)\n",
    "value_sp = round(value_sp,6)\n",
    "\n",
    "value_j = d_j.data_value.sum() / len(d_j.data_value)\n",
    "value_j = round(value_j,6)"
   ]
  },
  {
   "cell_type": "code",
   "execution_count": 170,
   "id": "f8a5a651",
   "metadata": {},
   "outputs": [
    {
     "data": {
      "text/plain": [
       "45.470009"
      ]
     },
     "execution_count": 170,
     "metadata": {},
     "output_type": "execute_result"
    }
   ],
   "source": [
    "value_gn"
   ]
  },
  {
   "cell_type": "code",
   "execution_count": 171,
   "id": "9666316b",
   "metadata": {},
   "outputs": [
    {
     "data": {
      "text/plain": [
       "45.441963"
      ]
     },
     "execution_count": 171,
     "metadata": {},
     "output_type": "execute_result"
    }
   ],
   "source": [
    "value_sp"
   ]
  },
  {
   "cell_type": "code",
   "execution_count": 172,
   "id": "fb00119f",
   "metadata": {},
   "outputs": [
    {
     "data": {
      "text/plain": [
       "40.280403"
      ]
     },
     "execution_count": 172,
     "metadata": {},
     "output_type": "execute_result"
    }
   ],
   "source": [
    "value_j"
   ]
  },
  {
   "cell_type": "markdown",
   "id": "aaa632db",
   "metadata": {},
   "source": [
    "##### 측정소 코드\n",
    "- 강남구 123\n",
    "- 송파구 124\n",
    "- 중구 102\n",
    "\n",
    "##### 측정기 상태 : \"0\" : 정상 “1” : 교정,“2”: 비정상,“4” : 전원단절 ,“8” : 보수중,“9” : 자료이상\n",
    "##### 8 :미세먼지 / 9: 초미세"
   ]
  },
  {
   "cell_type": "code",
   "execution_count": 3,
   "id": "08b9e479",
   "metadata": {},
   "outputs": [],
   "source": [
    "## 강남구 ## \n",
    "a_gn = aira[aira[\"loc_code\"]==123] # 강남구\n",
    "a_gn = a_gn[a_gn[\"data_state\"]==0] # 정상인 측정기만 추출\n",
    "\n",
    "# data_value : 평균 대기오염 확인\n",
    "value_gn = a_gn.data_value.sum() / len(a_gn.data_value) # 모든 값을 다 합한 뒤 길이값으로 나눠줌\n",
    "value_gn = round(value_gn,6)\n",
    "\n",
    "## 송파구 ## \n",
    "a_sp = aira[aira[\"loc_code\"]==124]\n",
    "a_sp = a_sp[a_sp[\"data_state\"]==0]\n",
    "value_sp = a_sp.data_value.sum() / len(a_sp.data_value)\n",
    "value_sp = round(value_sp,6)\n",
    "\n",
    "## 중구 ## \n",
    "a_j = aira[aira[\"loc_code\"]==124]\n",
    "a_j = a_j[a_j[\"data_state\"]==0]\n",
    "value_j = a_j.data_value.sum() / len(a_j.data_value)\n",
    "value_j = round(value_j,6)"
   ]
  },
  {
   "cell_type": "code",
   "execution_count": 4,
   "id": "7f2eea3b",
   "metadata": {},
   "outputs": [
    {
     "data": {
      "text/plain": [
       "8.917437"
      ]
     },
     "execution_count": 4,
     "metadata": {},
     "output_type": "execute_result"
    }
   ],
   "source": [
    "value_gn"
   ]
  },
  {
   "cell_type": "code",
   "execution_count": 5,
   "id": "d3651e6d",
   "metadata": {},
   "outputs": [
    {
     "data": {
      "text/plain": [
       "9.253223"
      ]
     },
     "execution_count": 5,
     "metadata": {},
     "output_type": "execute_result"
    }
   ],
   "source": [
    "value_sp"
   ]
  },
  {
   "cell_type": "code",
   "execution_count": 6,
   "id": "07a3608f",
   "metadata": {},
   "outputs": [
    {
     "data": {
      "text/plain": [
       "9.253223"
      ]
     },
     "execution_count": 6,
     "metadata": {},
     "output_type": "execute_result"
    }
   ],
   "source": [
    "value_j"
   ]
  },
  {
   "cell_type": "code",
   "execution_count": 7,
   "id": "7b825aa7",
   "metadata": {},
   "outputs": [],
   "source": [
    "air_goo = pd.DataFrame({\"goo_nm\":[\"강남구\",\"송파구\", \"중구\"],\n",
    "              \"air_value\" : [value_gn,value_sp,value_j]\n",
    "             })\n",
    "air_goo.set_index(\"goo_nm\",inplace=True)"
   ]
  },
  {
   "cell_type": "code",
   "execution_count": 8,
   "id": "85b62dd4",
   "metadata": {},
   "outputs": [
    {
     "data": {
      "text/html": [
       "<div>\n",
       "<style scoped>\n",
       "    .dataframe tbody tr th:only-of-type {\n",
       "        vertical-align: middle;\n",
       "    }\n",
       "\n",
       "    .dataframe tbody tr th {\n",
       "        vertical-align: top;\n",
       "    }\n",
       "\n",
       "    .dataframe thead th {\n",
       "        text-align: right;\n",
       "    }\n",
       "</style>\n",
       "<table border=\"1\" class=\"dataframe\">\n",
       "  <thead>\n",
       "    <tr style=\"text-align: right;\">\n",
       "      <th></th>\n",
       "      <th>air_value</th>\n",
       "    </tr>\n",
       "    <tr>\n",
       "      <th>goo_nm</th>\n",
       "      <th></th>\n",
       "    </tr>\n",
       "  </thead>\n",
       "  <tbody>\n",
       "    <tr>\n",
       "      <th>강남구</th>\n",
       "      <td>8.917437</td>\n",
       "    </tr>\n",
       "    <tr>\n",
       "      <th>송파구</th>\n",
       "      <td>9.253223</td>\n",
       "    </tr>\n",
       "    <tr>\n",
       "      <th>중구</th>\n",
       "      <td>9.253223</td>\n",
       "    </tr>\n",
       "  </tbody>\n",
       "</table>\n",
       "</div>"
      ],
      "text/plain": [
       "        air_value\n",
       "goo_nm           \n",
       "강남구      8.917437\n",
       "송파구      9.253223\n",
       "중구       9.253223"
      ]
     },
     "execution_count": 8,
     "metadata": {},
     "output_type": "execute_result"
    }
   ],
   "source": [
    "air_goo"
   ]
  },
  {
   "cell_type": "markdown",
   "id": "dd59291e",
   "metadata": {},
   "source": [
    "## 2) 서울시 따릉이 대여소"
   ]
  },
  {
   "cell_type": "code",
   "execution_count": 9,
   "id": "2ab5eba6",
   "metadata": {},
   "outputs": [],
   "source": [
    "bicyclea = pd.read_excel(\"sub_따릉이대여소_위치정보.xlsx\")"
   ]
  },
  {
   "cell_type": "code",
   "execution_count": 10,
   "id": "e203a5e4",
   "metadata": {},
   "outputs": [
    {
     "data": {
      "text/plain": [
       "(522, 6)"
      ]
     },
     "execution_count": 10,
     "metadata": {},
     "output_type": "execute_result"
    }
   ],
   "source": [
    "bicyclea[\"행정동\"] = \"\"\n",
    "bicyclea.shape"
   ]
  },
  {
   "cell_type": "code",
   "execution_count": 15,
   "id": "cb072b9d",
   "metadata": {},
   "outputs": [],
   "source": [
    "for i in range(522):\n",
    "    x_val = bicyclea.x[i]\n",
    "    y_val = bicyclea.y[i]\n",
    "    base_url = 'https://dapi.kakao.com/v2/local/geo/coord2regioncode.json?x='+str(x_val)+'&y='+str(y_val)+'&input_coord=WGS84'\n",
    "    \n",
    "    your_api_key = 'd89c853ebcefdd731422cbd0cb4cb9a4'\n",
    "    headers = {'Authorization':'KakaoAK '+your_api_key}\n",
    "\n",
    "    api_req = requests.get(base_url,headers=headers)\n",
    "    bicyclea[\"행정동\"][i] = json.loads(api_req.text)[\"documents\"][1]['region_3depth_name']"
   ]
  },
  {
   "cell_type": "code",
   "execution_count": 97,
   "id": "dfeda81a",
   "metadata": {},
   "outputs": [],
   "source": [
    "bicycle = bicyclea.copy()"
   ]
  },
  {
   "cell_type": "code",
   "execution_count": 98,
   "id": "07e10911",
   "metadata": {},
   "outputs": [],
   "source": [
    "bicycle = bicycle.groupby (\"행정동\").count()\n",
    "bicycle = bicycle[[\"대여소_ID\"]]\n",
    "bicycle = bicycle.rename(columns={\"대여소_ID\":\"count_bicycle\"})\n",
    "bicycle = bicycle.reset_index()\n",
    "bicycle = bicycle[(bicycle[\"행정동\"]!=\"청파동\")&(bicycle[\"행정동\"]!=\"방배1동\")&\n",
    "       (bicycle[\"행정동\"]!=\"양재1동\")&(bicycle[\"행정동\"]!=\"양재2동\")] # 시흥 5동"
   ]
  },
  {
   "cell_type": "markdown",
   "id": "47c57a2c",
   "metadata": {},
   "source": [
    "기존 데이터프레임에서 지역구로 잘못 분류된 경우를 제거해줬고 아래의 describe를 보면 0값을 갖고 있는 행정동 없음"
   ]
  },
  {
   "cell_type": "code",
   "execution_count": 99,
   "id": "3756811a",
   "metadata": {},
   "outputs": [
    {
     "data": {
      "text/html": [
       "<div>\n",
       "<style scoped>\n",
       "    .dataframe tbody tr th:only-of-type {\n",
       "        vertical-align: middle;\n",
       "    }\n",
       "\n",
       "    .dataframe tbody tr th {\n",
       "        vertical-align: top;\n",
       "    }\n",
       "\n",
       "    .dataframe thead th {\n",
       "        text-align: right;\n",
       "    }\n",
       "</style>\n",
       "<table border=\"1\" class=\"dataframe\">\n",
       "  <thead>\n",
       "    <tr style=\"text-align: right;\">\n",
       "      <th></th>\n",
       "      <th>count_bicycle</th>\n",
       "    </tr>\n",
       "  </thead>\n",
       "  <tbody>\n",
       "    <tr>\n",
       "      <th>count</th>\n",
       "      <td>64.000000</td>\n",
       "    </tr>\n",
       "    <tr>\n",
       "      <th>mean</th>\n",
       "      <td>8.093750</td>\n",
       "    </tr>\n",
       "    <tr>\n",
       "      <th>std</th>\n",
       "      <td>5.786461</td>\n",
       "    </tr>\n",
       "    <tr>\n",
       "      <th>min</th>\n",
       "      <td>1.000000</td>\n",
       "    </tr>\n",
       "    <tr>\n",
       "      <th>25%</th>\n",
       "      <td>4.000000</td>\n",
       "    </tr>\n",
       "    <tr>\n",
       "      <th>50%</th>\n",
       "      <td>6.000000</td>\n",
       "    </tr>\n",
       "    <tr>\n",
       "      <th>75%</th>\n",
       "      <td>10.000000</td>\n",
       "    </tr>\n",
       "    <tr>\n",
       "      <th>max</th>\n",
       "      <td>26.000000</td>\n",
       "    </tr>\n",
       "  </tbody>\n",
       "</table>\n",
       "</div>"
      ],
      "text/plain": [
       "       count_bicycle\n",
       "count      64.000000\n",
       "mean        8.093750\n",
       "std         5.786461\n",
       "min         1.000000\n",
       "25%         4.000000\n",
       "50%         6.000000\n",
       "75%        10.000000\n",
       "max        26.000000"
      ]
     },
     "execution_count": 99,
     "metadata": {},
     "output_type": "execute_result"
    }
   ],
   "source": [
    "bicycle.describe()"
   ]
  },
  {
   "cell_type": "code",
   "execution_count": 100,
   "id": "99d2d3a0",
   "metadata": {},
   "outputs": [
    {
     "data": {
      "text/plain": [
       "array(['가락1동', '가락2동', '가락본동', '개포1동', '개포2동', '개포4동', '거여1동', '거여2동',\n",
       "       '광희동', '논현1동', '논현2동', '다산동', '대치1동', '대치2동', '대치4동', '도곡1동',\n",
       "       '도곡2동', '동화동', '마천1동', '마천2동', '명동', '문정1동', '문정2동', '방이1동',\n",
       "       '방이2동', '삼성1동', '삼성2동', '삼전동', '석촌동', '세곡동', '소공동', '송파1동', '송파2동',\n",
       "       '수서동', '신당5동', '신당동', '신사동', '압구정동', '약수동', '역삼1동', '역삼2동', '오금동',\n",
       "       '오륜동', '위례동', '을지로동', '일원1동', '일원2동', '일원본동', '잠실2동', '잠실3동',\n",
       "       '잠실4동', '잠실6동', '잠실7동', '잠실본동', '장지동', '장충동', '중림동', '청구동', '청담동',\n",
       "       '풍납1동', '풍납2동', '필동', '황학동', '회현동'], dtype=object)"
      ]
     },
     "execution_count": 100,
     "metadata": {},
     "output_type": "execute_result"
    }
   ],
   "source": [
    "bicycle.행정동.unique()"
   ]
  },
  {
   "cell_type": "markdown",
   "id": "14964af9",
   "metadata": {},
   "source": [
    "## 3) 서울시 녹지대 현황"
   ]
  },
  {
   "cell_type": "code",
   "execution_count": 51,
   "id": "ee463b2f",
   "metadata": {},
   "outputs": [
    {
     "data": {
      "text/plain": [
       "(382, 6)"
      ]
     },
     "execution_count": 51,
     "metadata": {},
     "output_type": "execute_result"
    }
   ],
   "source": [
    "greena = pd.read_excel(\"sub_녹지대_위치정보.xlsx\") \n",
    "greena = greena.rename(columns={\"구명\":\"지역구\"})\n",
    "greena[\"행정동\"] = \"\"\n",
    "greena.shape"
   ]
  },
  {
   "cell_type": "code",
   "execution_count": 53,
   "id": "7e21e014",
   "metadata": {},
   "outputs": [],
   "source": [
    "for i in range(382):\n",
    "    x_val = greena.x[i]\n",
    "    y_val = greena.y[i]\n",
    "    base_url = 'https://dapi.kakao.com/v2/local/geo/coord2regioncode.json?x='+str(x_val)+'&y='+str(y_val)+'&input_coord=WGS84'\n",
    "    \n",
    "    your_api_key = 'd89c853ebcefdd731422cbd0cb4cb9a4'\n",
    "    headers = {'Authorization':'KakaoAK '+your_api_key}\n",
    "\n",
    "    api_req = requests.get(base_url,headers=headers)\n",
    "    greena[\"행정동\"][i] = json.loads(api_req.text)[\"documents\"][1]['region_3depth_name']\n",
    "    #print(json.loads(api_req.text)[\"documents\"][1]['region_3depth_name'])"
   ]
  },
  {
   "cell_type": "code",
   "execution_count": 54,
   "id": "ef58b437",
   "metadata": {},
   "outputs": [],
   "source": [
    "green = greena.copy()"
   ]
  },
  {
   "cell_type": "code",
   "execution_count": 55,
   "id": "b81cb956",
   "metadata": {},
   "outputs": [
    {
     "data": {
      "text/html": [
       "<div>\n",
       "<style scoped>\n",
       "    .dataframe tbody tr th:only-of-type {\n",
       "        vertical-align: middle;\n",
       "    }\n",
       "\n",
       "    .dataframe tbody tr th {\n",
       "        vertical-align: top;\n",
       "    }\n",
       "\n",
       "    .dataframe thead th {\n",
       "        text-align: right;\n",
       "    }\n",
       "</style>\n",
       "<table border=\"1\" class=\"dataframe\">\n",
       "  <thead>\n",
       "    <tr style=\"text-align: right;\">\n",
       "      <th></th>\n",
       "      <th>count_green</th>\n",
       "    </tr>\n",
       "  </thead>\n",
       "  <tbody>\n",
       "    <tr>\n",
       "      <th>count</th>\n",
       "      <td>55.000000</td>\n",
       "    </tr>\n",
       "    <tr>\n",
       "      <th>mean</th>\n",
       "      <td>6.945455</td>\n",
       "    </tr>\n",
       "    <tr>\n",
       "      <th>std</th>\n",
       "      <td>6.444688</td>\n",
       "    </tr>\n",
       "    <tr>\n",
       "      <th>min</th>\n",
       "      <td>1.000000</td>\n",
       "    </tr>\n",
       "    <tr>\n",
       "      <th>25%</th>\n",
       "      <td>2.000000</td>\n",
       "    </tr>\n",
       "    <tr>\n",
       "      <th>50%</th>\n",
       "      <td>4.000000</td>\n",
       "    </tr>\n",
       "    <tr>\n",
       "      <th>75%</th>\n",
       "      <td>11.000000</td>\n",
       "    </tr>\n",
       "    <tr>\n",
       "      <th>max</th>\n",
       "      <td>27.000000</td>\n",
       "    </tr>\n",
       "  </tbody>\n",
       "</table>\n",
       "</div>"
      ],
      "text/plain": [
       "       count_green\n",
       "count    55.000000\n",
       "mean      6.945455\n",
       "std       6.444688\n",
       "min       1.000000\n",
       "25%       2.000000\n",
       "50%       4.000000\n",
       "75%      11.000000\n",
       "max      27.000000"
      ]
     },
     "execution_count": 55,
     "metadata": {},
     "output_type": "execute_result"
    }
   ],
   "source": [
    "green = green.groupby (\"행정동\").count()\n",
    "green = green[[\"녹지대명\"]]\n",
    "green = green.rename(columns={\"녹지대명\":\"count_green\"})\n",
    "green = green.reset_index()\n",
    "green.describe() # 녹대지 없는 행정동 발생"
   ]
  },
  {
   "cell_type": "markdown",
   "id": "489e396e",
   "metadata": {},
   "source": [
    "## 4) 에코스쿨조성사업"
   ]
  },
  {
   "cell_type": "code",
   "execution_count": 35,
   "id": "eb2bf486",
   "metadata": {},
   "outputs": [
    {
     "data": {
      "text/plain": [
       "(86, 7)"
      ]
     },
     "execution_count": 35,
     "metadata": {},
     "output_type": "execute_result"
    }
   ],
   "source": [
    "schoola = pd.read_excel(\"sub_에코스쿨조성사업_위치정보.xlsx\")\n",
    "schoola[\"행정동\"] = \"\"\n",
    "schoola.shape"
   ]
  },
  {
   "cell_type": "code",
   "execution_count": 36,
   "id": "f0b3b317",
   "metadata": {},
   "outputs": [],
   "source": [
    "for i in range(86):\n",
    "    x_val = schoola.x[i]\n",
    "    y_val = schoola.y[i]\n",
    "    base_url = 'https://dapi.kakao.com/v2/local/geo/coord2regioncode.json?x='+str(x_val)+'&y='+str(y_val)+'&input_coord=WGS84'\n",
    "    \n",
    "    your_api_key = 'd89c853ebcefdd731422cbd0cb4cb9a4'\n",
    "    headers = {'Authorization':'KakaoAK '+your_api_key}\n",
    "\n",
    "    api_req = requests.get(base_url,headers=headers)\n",
    "    schoola[\"행정동\"][i] = json.loads(api_req.text)[\"documents\"][1]['region_3depth_name']\n",
    "    #print(json.loads(api_req.text)[\"documents\"][1]['region_3depth_name'])"
   ]
  },
  {
   "cell_type": "code",
   "execution_count": 57,
   "id": "a786a6ee",
   "metadata": {},
   "outputs": [],
   "source": [
    "school = schoola.copy()"
   ]
  },
  {
   "cell_type": "code",
   "execution_count": 58,
   "id": "26cd77cf",
   "metadata": {},
   "outputs": [
    {
     "data": {
      "text/html": [
       "<div>\n",
       "<style scoped>\n",
       "    .dataframe tbody tr th:only-of-type {\n",
       "        vertical-align: middle;\n",
       "    }\n",
       "\n",
       "    .dataframe tbody tr th {\n",
       "        vertical-align: top;\n",
       "    }\n",
       "\n",
       "    .dataframe thead th {\n",
       "        text-align: right;\n",
       "    }\n",
       "</style>\n",
       "<table border=\"1\" class=\"dataframe\">\n",
       "  <thead>\n",
       "    <tr style=\"text-align: right;\">\n",
       "      <th></th>\n",
       "      <th>count_school</th>\n",
       "    </tr>\n",
       "  </thead>\n",
       "  <tbody>\n",
       "    <tr>\n",
       "      <th>count</th>\n",
       "      <td>42.000000</td>\n",
       "    </tr>\n",
       "    <tr>\n",
       "      <th>mean</th>\n",
       "      <td>2.047619</td>\n",
       "    </tr>\n",
       "    <tr>\n",
       "      <th>std</th>\n",
       "      <td>1.034818</td>\n",
       "    </tr>\n",
       "    <tr>\n",
       "      <th>min</th>\n",
       "      <td>1.000000</td>\n",
       "    </tr>\n",
       "    <tr>\n",
       "      <th>25%</th>\n",
       "      <td>1.000000</td>\n",
       "    </tr>\n",
       "    <tr>\n",
       "      <th>50%</th>\n",
       "      <td>2.000000</td>\n",
       "    </tr>\n",
       "    <tr>\n",
       "      <th>75%</th>\n",
       "      <td>3.000000</td>\n",
       "    </tr>\n",
       "    <tr>\n",
       "      <th>max</th>\n",
       "      <td>4.000000</td>\n",
       "    </tr>\n",
       "  </tbody>\n",
       "</table>\n",
       "</div>"
      ],
      "text/plain": [
       "       count_school\n",
       "count     42.000000\n",
       "mean       2.047619\n",
       "std        1.034818\n",
       "min        1.000000\n",
       "25%        1.000000\n",
       "50%        2.000000\n",
       "75%        3.000000\n",
       "max        4.000000"
      ]
     },
     "execution_count": 58,
     "metadata": {},
     "output_type": "execute_result"
    }
   ],
   "source": [
    "school = school.groupby (\"행정동\").count()\n",
    "school = school[[\"학교명\"]]\n",
    "school = school.rename(columns={\"학교명\":\"count_school\"})\n",
    "school = school.reset_index()\n",
    "school.describe()"
   ]
  },
  {
   "cell_type": "markdown",
   "id": "a2d77735",
   "metadata": {},
   "source": [
    "## 5) 서울시 옥상녹화사업"
   ]
  },
  {
   "cell_type": "code",
   "execution_count": 61,
   "id": "d9fa769b",
   "metadata": {},
   "outputs": [
    {
     "data": {
      "text/plain": [
       "(112, 8)"
      ]
     },
     "execution_count": 61,
     "metadata": {},
     "output_type": "execute_result"
    }
   ],
   "source": [
    "topa = pd.read_excel(\"sub_옥상녹화_위치정보.xlsx\")\n",
    "topa[\"행정동\"] = \"\"\n",
    "topa.shape"
   ]
  },
  {
   "cell_type": "code",
   "execution_count": 62,
   "id": "dca69c36",
   "metadata": {},
   "outputs": [],
   "source": [
    "for i in range(112):\n",
    "    x_val = topa.x[i]\n",
    "    y_val = topa.y[i]\n",
    "    base_url = 'https://dapi.kakao.com/v2/local/geo/coord2regioncode.json?x='+str(x_val)+'&y='+str(y_val)+'&input_coord=WGS84'\n",
    "    \n",
    "    your_api_key = 'd89c853ebcefdd731422cbd0cb4cb9a4'\n",
    "    headers = {'Authorization':'KakaoAK '+your_api_key}\n",
    "\n",
    "    api_req = requests.get(base_url,headers=headers)\n",
    "    topa[\"행정동\"][i] = json.loads(api_req.text)[\"documents\"][1]['region_3depth_name']\n"
   ]
  },
  {
   "cell_type": "code",
   "execution_count": 63,
   "id": "bc1e3b1e",
   "metadata": {},
   "outputs": [],
   "source": [
    "top = topa.copy()"
   ]
  },
  {
   "cell_type": "code",
   "execution_count": 64,
   "id": "bef1cbfe",
   "metadata": {},
   "outputs": [
    {
     "data": {
      "text/html": [
       "<div>\n",
       "<style scoped>\n",
       "    .dataframe tbody tr th:only-of-type {\n",
       "        vertical-align: middle;\n",
       "    }\n",
       "\n",
       "    .dataframe tbody tr th {\n",
       "        vertical-align: top;\n",
       "    }\n",
       "\n",
       "    .dataframe thead th {\n",
       "        text-align: right;\n",
       "    }\n",
       "</style>\n",
       "<table border=\"1\" class=\"dataframe\">\n",
       "  <thead>\n",
       "    <tr style=\"text-align: right;\">\n",
       "      <th></th>\n",
       "      <th>count_top</th>\n",
       "    </tr>\n",
       "  </thead>\n",
       "  <tbody>\n",
       "    <tr>\n",
       "      <th>count</th>\n",
       "      <td>41.000000</td>\n",
       "    </tr>\n",
       "    <tr>\n",
       "      <th>mean</th>\n",
       "      <td>2.731707</td>\n",
       "    </tr>\n",
       "    <tr>\n",
       "      <th>std</th>\n",
       "      <td>2.941296</td>\n",
       "    </tr>\n",
       "    <tr>\n",
       "      <th>min</th>\n",
       "      <td>1.000000</td>\n",
       "    </tr>\n",
       "    <tr>\n",
       "      <th>25%</th>\n",
       "      <td>1.000000</td>\n",
       "    </tr>\n",
       "    <tr>\n",
       "      <th>50%</th>\n",
       "      <td>2.000000</td>\n",
       "    </tr>\n",
       "    <tr>\n",
       "      <th>75%</th>\n",
       "      <td>3.000000</td>\n",
       "    </tr>\n",
       "    <tr>\n",
       "      <th>max</th>\n",
       "      <td>17.000000</td>\n",
       "    </tr>\n",
       "  </tbody>\n",
       "</table>\n",
       "</div>"
      ],
      "text/plain": [
       "       count_top\n",
       "count  41.000000\n",
       "mean    2.731707\n",
       "std     2.941296\n",
       "min     1.000000\n",
       "25%     1.000000\n",
       "50%     2.000000\n",
       "75%     3.000000\n",
       "max    17.000000"
      ]
     },
     "execution_count": 64,
     "metadata": {},
     "output_type": "execute_result"
    }
   ],
   "source": [
    "top = top.groupby (\"행정동\").count()\n",
    "top = top[[\"건물명\"]]\n",
    "top = top.rename(columns={\"건물명\":\"count_top\"})\n",
    "top = top.reset_index()\n",
    "top.describe()"
   ]
  },
  {
   "cell_type": "markdown",
   "id": "4553fd1e",
   "metadata": {},
   "source": [
    "## 6) 서울시 행정동별 친환경 자동차 비율"
   ]
  },
  {
   "cell_type": "code",
   "execution_count": 82,
   "id": "286dd36d",
   "metadata": {},
   "outputs": [],
   "source": [
    "ecocara = pd.read_excel(\"sub_친환경자동차비율.xlsx\")"
   ]
  },
  {
   "cell_type": "code",
   "execution_count": 83,
   "id": "9444ba12",
   "metadata": {},
   "outputs": [
    {
     "data": {
      "text/html": [
       "<div>\n",
       "<style scoped>\n",
       "    .dataframe tbody tr th:only-of-type {\n",
       "        vertical-align: middle;\n",
       "    }\n",
       "\n",
       "    .dataframe tbody tr th {\n",
       "        vertical-align: top;\n",
       "    }\n",
       "\n",
       "    .dataframe thead th {\n",
       "        text-align: right;\n",
       "    }\n",
       "</style>\n",
       "<table border=\"1\" class=\"dataframe\">\n",
       "  <thead>\n",
       "    <tr style=\"text-align: right;\">\n",
       "      <th></th>\n",
       "      <th>gd_nm</th>\n",
       "      <th>전체합계</th>\n",
       "      <th>친환경자동차</th>\n",
       "      <th>eco_ratio</th>\n",
       "    </tr>\n",
       "  </thead>\n",
       "  <tbody>\n",
       "    <tr>\n",
       "      <th>0</th>\n",
       "      <td>송파구 가락1동</td>\n",
       "      <td>11406</td>\n",
       "      <td>1068</td>\n",
       "      <td>0.0936</td>\n",
       "    </tr>\n",
       "    <tr>\n",
       "      <th>1</th>\n",
       "      <td>송파구 가락2동</td>\n",
       "      <td>10758</td>\n",
       "      <td>722</td>\n",
       "      <td>0.0671</td>\n",
       "    </tr>\n",
       "    <tr>\n",
       "      <th>2</th>\n",
       "      <td>송파구 가락본동</td>\n",
       "      <td>12586</td>\n",
       "      <td>595</td>\n",
       "      <td>0.0473</td>\n",
       "    </tr>\n",
       "    <tr>\n",
       "      <th>3</th>\n",
       "      <td>송파구 거여1동</td>\n",
       "      <td>4079</td>\n",
       "      <td>190</td>\n",
       "      <td>0.0466</td>\n",
       "    </tr>\n",
       "    <tr>\n",
       "      <th>4</th>\n",
       "      <td>송파구 거여2동</td>\n",
       "      <td>7416</td>\n",
       "      <td>463</td>\n",
       "      <td>0.0624</td>\n",
       "    </tr>\n",
       "    <tr>\n",
       "      <th>...</th>\n",
       "      <td>...</td>\n",
       "      <td>...</td>\n",
       "      <td>...</td>\n",
       "      <td>...</td>\n",
       "    </tr>\n",
       "    <tr>\n",
       "      <th>59</th>\n",
       "      <td>중구 중림동</td>\n",
       "      <td>3822</td>\n",
       "      <td>273</td>\n",
       "      <td>0.0714</td>\n",
       "    </tr>\n",
       "    <tr>\n",
       "      <th>60</th>\n",
       "      <td>중구 청구동</td>\n",
       "      <td>3549</td>\n",
       "      <td>199</td>\n",
       "      <td>0.0561</td>\n",
       "    </tr>\n",
       "    <tr>\n",
       "      <th>61</th>\n",
       "      <td>중구 필동</td>\n",
       "      <td>2110</td>\n",
       "      <td>141</td>\n",
       "      <td>0.0668</td>\n",
       "    </tr>\n",
       "    <tr>\n",
       "      <th>62</th>\n",
       "      <td>중구 황학동</td>\n",
       "      <td>3461</td>\n",
       "      <td>185</td>\n",
       "      <td>0.0535</td>\n",
       "    </tr>\n",
       "    <tr>\n",
       "      <th>63</th>\n",
       "      <td>중구 회현동</td>\n",
       "      <td>11612</td>\n",
       "      <td>763</td>\n",
       "      <td>0.0657</td>\n",
       "    </tr>\n",
       "  </tbody>\n",
       "</table>\n",
       "<p>64 rows × 4 columns</p>\n",
       "</div>"
      ],
      "text/plain": [
       "       gd_nm   전체합계  친환경자동차  eco_ratio\n",
       "0   송파구 가락1동  11406    1068     0.0936\n",
       "1   송파구 가락2동  10758     722     0.0671\n",
       "2   송파구 가락본동  12586     595     0.0473\n",
       "3   송파구 거여1동   4079     190     0.0466\n",
       "4   송파구 거여2동   7416     463     0.0624\n",
       "..       ...    ...     ...        ...\n",
       "59    중구 중림동   3822     273     0.0714\n",
       "60    중구 청구동   3549     199     0.0561\n",
       "61     중구 필동   2110     141     0.0668\n",
       "62    중구 황학동   3461     185     0.0535\n",
       "63    중구 회현동  11612     763     0.0657\n",
       "\n",
       "[64 rows x 4 columns]"
      ]
     },
     "execution_count": 83,
     "metadata": {},
     "output_type": "execute_result"
    }
   ],
   "source": [
    "ecocara"
   ]
  },
  {
   "cell_type": "markdown",
   "id": "f105d677",
   "metadata": {},
   "source": [
    "## 7) 서울시 지역구별 쓰레기 \n",
    "\n",
    "- 강남구 5556.9\n",
    "- 송파구 4271.9\n",
    "- 중구 1553.7"
   ]
  },
  {
   "cell_type": "code",
   "execution_count": null,
   "id": "758ceafd",
   "metadata": {},
   "outputs": [],
   "source": []
  },
  {
   "cell_type": "markdown",
   "id": "243ec0e2",
   "metadata": {},
   "source": [
    "## 8) 행정동별 전체 인구 대비 1인 가구 비율 = one_ratio"
   ]
  },
  {
   "cell_type": "code",
   "execution_count": 72,
   "id": "49db72ad",
   "metadata": {},
   "outputs": [
    {
     "data": {
      "text/html": [
       "<div>\n",
       "<style scoped>\n",
       "    .dataframe tbody tr th:only-of-type {\n",
       "        vertical-align: middle;\n",
       "    }\n",
       "\n",
       "    .dataframe tbody tr th {\n",
       "        vertical-align: top;\n",
       "    }\n",
       "\n",
       "    .dataframe thead th {\n",
       "        text-align: right;\n",
       "    }\n",
       "</style>\n",
       "<table border=\"1\" class=\"dataframe\">\n",
       "  <thead>\n",
       "    <tr style=\"text-align: right;\">\n",
       "      <th></th>\n",
       "      <th>gd_nm</th>\n",
       "      <th>goo_nm</th>\n",
       "      <th>dong_nm</th>\n",
       "      <th>dong_ID</th>\n",
       "      <th>dong_area</th>\n",
       "      <th>one_ratio</th>\n",
       "      <th>cc_value</th>\n",
       "      <th>count_zero</th>\n",
       "      <th>sum_trans</th>\n",
       "      <th>sum_order</th>\n",
       "      <th>y</th>\n",
       "      <th>x</th>\n",
       "    </tr>\n",
       "  </thead>\n",
       "  <tbody>\n",
       "    <tr>\n",
       "      <th>0</th>\n",
       "      <td>송파구 가락1동</td>\n",
       "      <td>송파구</td>\n",
       "      <td>가락1동</td>\n",
       "      <td>11710631</td>\n",
       "      <td>1.46</td>\n",
       "      <td>0.037487</td>\n",
       "      <td>0</td>\n",
       "      <td>0</td>\n",
       "      <td>9040266</td>\n",
       "      <td>73694</td>\n",
       "      <td>37.496537</td>\n",
       "      <td>127.105726</td>\n",
       "    </tr>\n",
       "    <tr>\n",
       "      <th>1</th>\n",
       "      <td>송파구 가락2동</td>\n",
       "      <td>송파구</td>\n",
       "      <td>가락2동</td>\n",
       "      <td>11710632</td>\n",
       "      <td>1.34</td>\n",
       "      <td>0.056981</td>\n",
       "      <td>10</td>\n",
       "      <td>0</td>\n",
       "      <td>5631398</td>\n",
       "      <td>73694</td>\n",
       "      <td>37.498639</td>\n",
       "      <td>127.126488</td>\n",
       "    </tr>\n",
       "    <tr>\n",
       "      <th>2</th>\n",
       "      <td>송파구 가락본동</td>\n",
       "      <td>송파구</td>\n",
       "      <td>가락본동</td>\n",
       "      <td>11710620</td>\n",
       "      <td>0.96</td>\n",
       "      <td>0.096536</td>\n",
       "      <td>30</td>\n",
       "      <td>1</td>\n",
       "      <td>3081377</td>\n",
       "      <td>73694</td>\n",
       "      <td>37.495585</td>\n",
       "      <td>127.121830</td>\n",
       "    </tr>\n",
       "    <tr>\n",
       "      <th>3</th>\n",
       "      <td>강남구 개포1동</td>\n",
       "      <td>강남구</td>\n",
       "      <td>개포1동</td>\n",
       "      <td>11680660</td>\n",
       "      <td>1.27</td>\n",
       "      <td>0.070165</td>\n",
       "      <td>0</td>\n",
       "      <td>0</td>\n",
       "      <td>1375563</td>\n",
       "      <td>68999</td>\n",
       "      <td>37.481925</td>\n",
       "      <td>127.057439</td>\n",
       "    </tr>\n",
       "    <tr>\n",
       "      <th>4</th>\n",
       "      <td>강남구 개포2동</td>\n",
       "      <td>강남구</td>\n",
       "      <td>개포2동</td>\n",
       "      <td>11680670</td>\n",
       "      <td>2.51</td>\n",
       "      <td>0.040364</td>\n",
       "      <td>0</td>\n",
       "      <td>0</td>\n",
       "      <td>2063259</td>\n",
       "      <td>68999</td>\n",
       "      <td>37.489766</td>\n",
       "      <td>127.069056</td>\n",
       "    </tr>\n",
       "    <tr>\n",
       "      <th>...</th>\n",
       "      <td>...</td>\n",
       "      <td>...</td>\n",
       "      <td>...</td>\n",
       "      <td>...</td>\n",
       "      <td>...</td>\n",
       "      <td>...</td>\n",
       "      <td>...</td>\n",
       "      <td>...</td>\n",
       "      <td>...</td>\n",
       "      <td>...</td>\n",
       "      <td>...</td>\n",
       "      <td>...</td>\n",
       "    </tr>\n",
       "    <tr>\n",
       "      <th>59</th>\n",
       "      <td>송파구 풍납1동</td>\n",
       "      <td>송파구</td>\n",
       "      <td>풍납1동</td>\n",
       "      <td>11710510</td>\n",
       "      <td>1.37</td>\n",
       "      <td>0.106685</td>\n",
       "      <td>0</td>\n",
       "      <td>0</td>\n",
       "      <td>1185664</td>\n",
       "      <td>73694</td>\n",
       "      <td>37.538055</td>\n",
       "      <td>127.122215</td>\n",
       "    </tr>\n",
       "    <tr>\n",
       "      <th>60</th>\n",
       "      <td>송파구 풍납2동</td>\n",
       "      <td>송파구</td>\n",
       "      <td>풍납2동</td>\n",
       "      <td>11710520</td>\n",
       "      <td>0.77</td>\n",
       "      <td>0.093297</td>\n",
       "      <td>0</td>\n",
       "      <td>1</td>\n",
       "      <td>2236027</td>\n",
       "      <td>73694</td>\n",
       "      <td>37.528779</td>\n",
       "      <td>127.116814</td>\n",
       "    </tr>\n",
       "    <tr>\n",
       "      <th>61</th>\n",
       "      <td>중구 필동</td>\n",
       "      <td>중구</td>\n",
       "      <td>필동</td>\n",
       "      <td>11140570</td>\n",
       "      <td>1.14</td>\n",
       "      <td>0.172066</td>\n",
       "      <td>0</td>\n",
       "      <td>0</td>\n",
       "      <td>7107052</td>\n",
       "      <td>22818</td>\n",
       "      <td>37.560148</td>\n",
       "      <td>126.995572</td>\n",
       "    </tr>\n",
       "    <tr>\n",
       "      <th>62</th>\n",
       "      <td>중구 황학동</td>\n",
       "      <td>중구</td>\n",
       "      <td>황학동</td>\n",
       "      <td>11140670</td>\n",
       "      <td>0.33</td>\n",
       "      <td>0.175523</td>\n",
       "      <td>0</td>\n",
       "      <td>0</td>\n",
       "      <td>1243065</td>\n",
       "      <td>22818</td>\n",
       "      <td>37.568542</td>\n",
       "      <td>127.020827</td>\n",
       "    </tr>\n",
       "    <tr>\n",
       "      <th>63</th>\n",
       "      <td>중구 회현동</td>\n",
       "      <td>중구</td>\n",
       "      <td>회현동</td>\n",
       "      <td>11140540</td>\n",
       "      <td>0.84</td>\n",
       "      <td>0.120723</td>\n",
       "      <td>0</td>\n",
       "      <td>1</td>\n",
       "      <td>25705050</td>\n",
       "      <td>22818</td>\n",
       "      <td>37.557288</td>\n",
       "      <td>126.979369</td>\n",
       "    </tr>\n",
       "  </tbody>\n",
       "</table>\n",
       "<p>64 rows × 12 columns</p>\n",
       "</div>"
      ],
      "text/plain": [
       "       gd_nm goo_nm dong_nm   dong_ID  dong_area  one_ratio  cc_value  \\\n",
       "0   송파구 가락1동    송파구    가락1동  11710631       1.46   0.037487         0   \n",
       "1   송파구 가락2동    송파구    가락2동  11710632       1.34   0.056981        10   \n",
       "2   송파구 가락본동    송파구    가락본동  11710620       0.96   0.096536        30   \n",
       "3   강남구 개포1동    강남구    개포1동  11680660       1.27   0.070165         0   \n",
       "4   강남구 개포2동    강남구    개포2동  11680670       2.51   0.040364         0   \n",
       "..       ...    ...     ...       ...        ...        ...       ...   \n",
       "59  송파구 풍납1동    송파구    풍납1동  11710510       1.37   0.106685         0   \n",
       "60  송파구 풍납2동    송파구    풍납2동  11710520       0.77   0.093297         0   \n",
       "61     중구 필동     중구      필동  11140570       1.14   0.172066         0   \n",
       "62    중구 황학동     중구     황학동  11140670       0.33   0.175523         0   \n",
       "63    중구 회현동     중구     회현동  11140540       0.84   0.120723         0   \n",
       "\n",
       "    count_zero  sum_trans  sum_order          y           x  \n",
       "0            0    9040266      73694  37.496537  127.105726  \n",
       "1            0    5631398      73694  37.498639  127.126488  \n",
       "2            1    3081377      73694  37.495585  127.121830  \n",
       "3            0    1375563      68999  37.481925  127.057439  \n",
       "4            0    2063259      68999  37.489766  127.069056  \n",
       "..         ...        ...        ...        ...         ...  \n",
       "59           0    1185664      73694  37.538055  127.122215  \n",
       "60           1    2236027      73694  37.528779  127.116814  \n",
       "61           0    7107052      22818  37.560148  126.995572  \n",
       "62           0    1243065      22818  37.568542  127.020827  \n",
       "63           1   25705050      22818  37.557288  126.979369  \n",
       "\n",
       "[64 rows x 12 columns]"
      ]
     },
     "execution_count": 72,
     "metadata": {},
     "output_type": "execute_result"
    }
   ],
   "source": [
    "df = pd.read_excel(\"fffin_dataset_dong2.xlsx\")\n",
    "df "
   ]
  },
  {
   "cell_type": "markdown",
   "id": "1fd125ef",
   "metadata": {},
   "source": [
    "# 데이터 프레임 병합 = 에코 지수 생성 단계"
   ]
  },
  {
   "cell_type": "code",
   "execution_count": 126,
   "id": "a9c395ec",
   "metadata": {},
   "outputs": [],
   "source": [
    "a = bicycle.merge(green, left_on=\"행정동\", right_on=\"행정동\", how='outer')\n",
    "j = a.merge(school, left_on=\"행정동\", right_on=\"행정동\", how='outer')\n",
    "m = j.merge(top, left_on=\"행정동\", right_on=\"행정동\", how='outer')\n",
    "m = m.fillna(0)  # 결측 == 0으로 변경 필요"
   ]
  },
  {
   "cell_type": "code",
   "execution_count": 127,
   "id": "0b58f64f",
   "metadata": {},
   "outputs": [],
   "source": [
    "only_name = df.copy()\n",
    "d_value = m.copy()\n",
    "result = only_name.merge(d_value, left_on=\"dong_nm\", right_on=\"행정동\", how='outer')\n",
    "result = result.drop(columns={\"행정동\"})\n",
    "result = result.dropna()\n",
    "\n",
    "result[\"air_value\"] = \"\"\n",
    "result[\"air_value\"][result[\"goo_nm\"]==\"강남구\"] = 8.917437\n",
    "result[\"air_value\"][result[\"goo_nm\"]==\"송파구\"] = 9.253223\n",
    "result[\"air_value\"][result[\"goo_nm\"]==\"중구\"] = 9.253223"
   ]
  },
  {
   "cell_type": "code",
   "execution_count": 128,
   "id": "107654d9",
   "metadata": {},
   "outputs": [
    {
     "data": {
      "text/html": [
       "<div>\n",
       "<style scoped>\n",
       "    .dataframe tbody tr th:only-of-type {\n",
       "        vertical-align: middle;\n",
       "    }\n",
       "\n",
       "    .dataframe tbody tr th {\n",
       "        vertical-align: top;\n",
       "    }\n",
       "\n",
       "    .dataframe thead th {\n",
       "        text-align: right;\n",
       "    }\n",
       "</style>\n",
       "<table border=\"1\" class=\"dataframe\">\n",
       "  <thead>\n",
       "    <tr style=\"text-align: right;\">\n",
       "      <th></th>\n",
       "      <th>gd_nm</th>\n",
       "      <th>goo_nm</th>\n",
       "      <th>dong_nm</th>\n",
       "      <th>dong_ID</th>\n",
       "      <th>dong_area</th>\n",
       "      <th>one_ratio</th>\n",
       "      <th>cc_value</th>\n",
       "      <th>count_zero</th>\n",
       "      <th>sum_trans</th>\n",
       "      <th>sum_order</th>\n",
       "      <th>y</th>\n",
       "      <th>x</th>\n",
       "      <th>count_bicycle</th>\n",
       "      <th>count_green</th>\n",
       "      <th>count_school</th>\n",
       "      <th>count_top</th>\n",
       "      <th>air_value</th>\n",
       "      <th>eco_ratio</th>\n",
       "    </tr>\n",
       "  </thead>\n",
       "  <tbody>\n",
       "    <tr>\n",
       "      <th>0</th>\n",
       "      <td>송파구 가락1동</td>\n",
       "      <td>송파구</td>\n",
       "      <td>가락1동</td>\n",
       "      <td>11710631.0</td>\n",
       "      <td>1.46</td>\n",
       "      <td>0.037487</td>\n",
       "      <td>0.0</td>\n",
       "      <td>0.0</td>\n",
       "      <td>9040266.0</td>\n",
       "      <td>73694.0</td>\n",
       "      <td>37.496537</td>\n",
       "      <td>127.105726</td>\n",
       "      <td>7.0</td>\n",
       "      <td>18.0</td>\n",
       "      <td>1.0</td>\n",
       "      <td>0.0</td>\n",
       "      <td>9.253223</td>\n",
       "      <td>0.0936</td>\n",
       "    </tr>\n",
       "    <tr>\n",
       "      <th>1</th>\n",
       "      <td>송파구 가락2동</td>\n",
       "      <td>송파구</td>\n",
       "      <td>가락2동</td>\n",
       "      <td>11710632.0</td>\n",
       "      <td>1.34</td>\n",
       "      <td>0.056981</td>\n",
       "      <td>10.0</td>\n",
       "      <td>0.0</td>\n",
       "      <td>5631398.0</td>\n",
       "      <td>73694.0</td>\n",
       "      <td>37.498639</td>\n",
       "      <td>127.126488</td>\n",
       "      <td>5.0</td>\n",
       "      <td>0.0</td>\n",
       "      <td>2.0</td>\n",
       "      <td>1.0</td>\n",
       "      <td>9.253223</td>\n",
       "      <td>0.0671</td>\n",
       "    </tr>\n",
       "    <tr>\n",
       "      <th>2</th>\n",
       "      <td>송파구 가락본동</td>\n",
       "      <td>송파구</td>\n",
       "      <td>가락본동</td>\n",
       "      <td>11710620.0</td>\n",
       "      <td>0.96</td>\n",
       "      <td>0.096536</td>\n",
       "      <td>30.0</td>\n",
       "      <td>1.0</td>\n",
       "      <td>3081377.0</td>\n",
       "      <td>73694.0</td>\n",
       "      <td>37.495585</td>\n",
       "      <td>127.121830</td>\n",
       "      <td>7.0</td>\n",
       "      <td>1.0</td>\n",
       "      <td>2.0</td>\n",
       "      <td>2.0</td>\n",
       "      <td>9.253223</td>\n",
       "      <td>0.0473</td>\n",
       "    </tr>\n",
       "    <tr>\n",
       "      <th>3</th>\n",
       "      <td>강남구 개포1동</td>\n",
       "      <td>강남구</td>\n",
       "      <td>개포1동</td>\n",
       "      <td>11680660.0</td>\n",
       "      <td>1.27</td>\n",
       "      <td>0.070165</td>\n",
       "      <td>0.0</td>\n",
       "      <td>0.0</td>\n",
       "      <td>1375563.0</td>\n",
       "      <td>68999.0</td>\n",
       "      <td>37.481925</td>\n",
       "      <td>127.057439</td>\n",
       "      <td>3.0</td>\n",
       "      <td>2.0</td>\n",
       "      <td>3.0</td>\n",
       "      <td>0.0</td>\n",
       "      <td>8.917437</td>\n",
       "      <td>0.0697</td>\n",
       "    </tr>\n",
       "    <tr>\n",
       "      <th>4</th>\n",
       "      <td>강남구 개포2동</td>\n",
       "      <td>강남구</td>\n",
       "      <td>개포2동</td>\n",
       "      <td>11680670.0</td>\n",
       "      <td>2.51</td>\n",
       "      <td>0.040364</td>\n",
       "      <td>0.0</td>\n",
       "      <td>0.0</td>\n",
       "      <td>2063259.0</td>\n",
       "      <td>68999.0</td>\n",
       "      <td>37.489766</td>\n",
       "      <td>127.069056</td>\n",
       "      <td>13.0</td>\n",
       "      <td>5.0</td>\n",
       "      <td>4.0</td>\n",
       "      <td>0.0</td>\n",
       "      <td>8.917437</td>\n",
       "      <td>0.0845</td>\n",
       "    </tr>\n",
       "    <tr>\n",
       "      <th>...</th>\n",
       "      <td>...</td>\n",
       "      <td>...</td>\n",
       "      <td>...</td>\n",
       "      <td>...</td>\n",
       "      <td>...</td>\n",
       "      <td>...</td>\n",
       "      <td>...</td>\n",
       "      <td>...</td>\n",
       "      <td>...</td>\n",
       "      <td>...</td>\n",
       "      <td>...</td>\n",
       "      <td>...</td>\n",
       "      <td>...</td>\n",
       "      <td>...</td>\n",
       "      <td>...</td>\n",
       "      <td>...</td>\n",
       "      <td>...</td>\n",
       "      <td>...</td>\n",
       "    </tr>\n",
       "    <tr>\n",
       "      <th>59</th>\n",
       "      <td>송파구 풍납1동</td>\n",
       "      <td>송파구</td>\n",
       "      <td>풍납1동</td>\n",
       "      <td>11710510.0</td>\n",
       "      <td>1.37</td>\n",
       "      <td>0.106685</td>\n",
       "      <td>0.0</td>\n",
       "      <td>0.0</td>\n",
       "      <td>1185664.0</td>\n",
       "      <td>73694.0</td>\n",
       "      <td>37.538055</td>\n",
       "      <td>127.122215</td>\n",
       "      <td>4.0</td>\n",
       "      <td>3.0</td>\n",
       "      <td>0.0</td>\n",
       "      <td>0.0</td>\n",
       "      <td>9.253223</td>\n",
       "      <td>0.0516</td>\n",
       "    </tr>\n",
       "    <tr>\n",
       "      <th>60</th>\n",
       "      <td>송파구 풍납2동</td>\n",
       "      <td>송파구</td>\n",
       "      <td>풍납2동</td>\n",
       "      <td>11710520.0</td>\n",
       "      <td>0.77</td>\n",
       "      <td>0.093297</td>\n",
       "      <td>0.0</td>\n",
       "      <td>1.0</td>\n",
       "      <td>2236027.0</td>\n",
       "      <td>73694.0</td>\n",
       "      <td>37.528779</td>\n",
       "      <td>127.116814</td>\n",
       "      <td>12.0</td>\n",
       "      <td>12.0</td>\n",
       "      <td>3.0</td>\n",
       "      <td>3.0</td>\n",
       "      <td>9.253223</td>\n",
       "      <td>0.0631</td>\n",
       "    </tr>\n",
       "    <tr>\n",
       "      <th>61</th>\n",
       "      <td>중구 필동</td>\n",
       "      <td>중구</td>\n",
       "      <td>필동</td>\n",
       "      <td>11140570.0</td>\n",
       "      <td>1.14</td>\n",
       "      <td>0.172066</td>\n",
       "      <td>0.0</td>\n",
       "      <td>0.0</td>\n",
       "      <td>7107052.0</td>\n",
       "      <td>22818.0</td>\n",
       "      <td>37.560148</td>\n",
       "      <td>126.995572</td>\n",
       "      <td>4.0</td>\n",
       "      <td>8.0</td>\n",
       "      <td>0.0</td>\n",
       "      <td>6.0</td>\n",
       "      <td>9.253223</td>\n",
       "      <td>0.0668</td>\n",
       "    </tr>\n",
       "    <tr>\n",
       "      <th>62</th>\n",
       "      <td>중구 황학동</td>\n",
       "      <td>중구</td>\n",
       "      <td>황학동</td>\n",
       "      <td>11140670.0</td>\n",
       "      <td>0.33</td>\n",
       "      <td>0.175523</td>\n",
       "      <td>0.0</td>\n",
       "      <td>0.0</td>\n",
       "      <td>1243065.0</td>\n",
       "      <td>22818.0</td>\n",
       "      <td>37.568542</td>\n",
       "      <td>127.020827</td>\n",
       "      <td>2.0</td>\n",
       "      <td>0.0</td>\n",
       "      <td>0.0</td>\n",
       "      <td>1.0</td>\n",
       "      <td>9.253223</td>\n",
       "      <td>0.0535</td>\n",
       "    </tr>\n",
       "    <tr>\n",
       "      <th>63</th>\n",
       "      <td>중구 회현동</td>\n",
       "      <td>중구</td>\n",
       "      <td>회현동</td>\n",
       "      <td>11140540.0</td>\n",
       "      <td>0.84</td>\n",
       "      <td>0.120723</td>\n",
       "      <td>0.0</td>\n",
       "      <td>1.0</td>\n",
       "      <td>25705050.0</td>\n",
       "      <td>22818.0</td>\n",
       "      <td>37.557288</td>\n",
       "      <td>126.979369</td>\n",
       "      <td>14.0</td>\n",
       "      <td>8.0</td>\n",
       "      <td>0.0</td>\n",
       "      <td>5.0</td>\n",
       "      <td>9.253223</td>\n",
       "      <td>0.0657</td>\n",
       "    </tr>\n",
       "  </tbody>\n",
       "</table>\n",
       "<p>64 rows × 18 columns</p>\n",
       "</div>"
      ],
      "text/plain": [
       "       gd_nm goo_nm dong_nm     dong_ID  dong_area  one_ratio  cc_value  \\\n",
       "0   송파구 가락1동    송파구    가락1동  11710631.0       1.46   0.037487       0.0   \n",
       "1   송파구 가락2동    송파구    가락2동  11710632.0       1.34   0.056981      10.0   \n",
       "2   송파구 가락본동    송파구    가락본동  11710620.0       0.96   0.096536      30.0   \n",
       "3   강남구 개포1동    강남구    개포1동  11680660.0       1.27   0.070165       0.0   \n",
       "4   강남구 개포2동    강남구    개포2동  11680670.0       2.51   0.040364       0.0   \n",
       "..       ...    ...     ...         ...        ...        ...       ...   \n",
       "59  송파구 풍납1동    송파구    풍납1동  11710510.0       1.37   0.106685       0.0   \n",
       "60  송파구 풍납2동    송파구    풍납2동  11710520.0       0.77   0.093297       0.0   \n",
       "61     중구 필동     중구      필동  11140570.0       1.14   0.172066       0.0   \n",
       "62    중구 황학동     중구     황학동  11140670.0       0.33   0.175523       0.0   \n",
       "63    중구 회현동     중구     회현동  11140540.0       0.84   0.120723       0.0   \n",
       "\n",
       "    count_zero   sum_trans  sum_order          y           x  count_bicycle  \\\n",
       "0          0.0   9040266.0    73694.0  37.496537  127.105726            7.0   \n",
       "1          0.0   5631398.0    73694.0  37.498639  127.126488            5.0   \n",
       "2          1.0   3081377.0    73694.0  37.495585  127.121830            7.0   \n",
       "3          0.0   1375563.0    68999.0  37.481925  127.057439            3.0   \n",
       "4          0.0   2063259.0    68999.0  37.489766  127.069056           13.0   \n",
       "..         ...         ...        ...        ...         ...            ...   \n",
       "59         0.0   1185664.0    73694.0  37.538055  127.122215            4.0   \n",
       "60         1.0   2236027.0    73694.0  37.528779  127.116814           12.0   \n",
       "61         0.0   7107052.0    22818.0  37.560148  126.995572            4.0   \n",
       "62         0.0   1243065.0    22818.0  37.568542  127.020827            2.0   \n",
       "63         1.0  25705050.0    22818.0  37.557288  126.979369           14.0   \n",
       "\n",
       "    count_green  count_school  count_top air_value  eco_ratio  \n",
       "0          18.0           1.0        0.0  9.253223     0.0936  \n",
       "1           0.0           2.0        1.0  9.253223     0.0671  \n",
       "2           1.0           2.0        2.0  9.253223     0.0473  \n",
       "3           2.0           3.0        0.0  8.917437     0.0697  \n",
       "4           5.0           4.0        0.0  8.917437     0.0845  \n",
       "..          ...           ...        ...       ...        ...  \n",
       "59          3.0           0.0        0.0  9.253223     0.0516  \n",
       "60         12.0           3.0        3.0  9.253223     0.0631  \n",
       "61          8.0           0.0        6.0  9.253223     0.0668  \n",
       "62          0.0           0.0        1.0  9.253223     0.0535  \n",
       "63          8.0           0.0        5.0  9.253223     0.0657  \n",
       "\n",
       "[64 rows x 18 columns]"
      ]
     },
     "execution_count": 128,
     "metadata": {},
     "output_type": "execute_result"
    }
   ],
   "source": [
    "result = result.merge(ecocara[[\"gd_nm\",\"eco_ratio\"]], left_on=\"gd_nm\", right_on=\"gd_nm\", how='outer')\n",
    "result"
   ]
  },
  {
   "cell_type": "markdown",
   "id": "c11c8f4a",
   "metadata": {},
   "source": [
    "- 강남 5556.9\n",
    "- 송파 4271.9\n",
    "- 중구 1553.7\n"
   ]
  },
  {
   "cell_type": "code",
   "execution_count": 129,
   "id": "4185ae9f",
   "metadata": {},
   "outputs": [
    {
     "data": {
      "text/html": [
       "<div>\n",
       "<style scoped>\n",
       "    .dataframe tbody tr th:only-of-type {\n",
       "        vertical-align: middle;\n",
       "    }\n",
       "\n",
       "    .dataframe tbody tr th {\n",
       "        vertical-align: top;\n",
       "    }\n",
       "\n",
       "    .dataframe thead th {\n",
       "        text-align: right;\n",
       "    }\n",
       "</style>\n",
       "<table border=\"1\" class=\"dataframe\">\n",
       "  <thead>\n",
       "    <tr style=\"text-align: right;\">\n",
       "      <th></th>\n",
       "      <th>gd_nm</th>\n",
       "      <th>goo_nm</th>\n",
       "      <th>dong_nm</th>\n",
       "      <th>dong_ID</th>\n",
       "      <th>dong_area</th>\n",
       "      <th>one_ratio</th>\n",
       "      <th>cc_value</th>\n",
       "      <th>count_zero</th>\n",
       "      <th>sum_trans</th>\n",
       "      <th>sum_order</th>\n",
       "      <th>y</th>\n",
       "      <th>x</th>\n",
       "      <th>count_bicycle</th>\n",
       "      <th>count_green</th>\n",
       "      <th>count_school</th>\n",
       "      <th>count_top</th>\n",
       "      <th>air_value</th>\n",
       "      <th>eco_ratio</th>\n",
       "      <th>sum_waste</th>\n",
       "    </tr>\n",
       "  </thead>\n",
       "  <tbody>\n",
       "    <tr>\n",
       "      <th>0</th>\n",
       "      <td>송파구 가락1동</td>\n",
       "      <td>송파구</td>\n",
       "      <td>가락1동</td>\n",
       "      <td>11710631.0</td>\n",
       "      <td>1.46</td>\n",
       "      <td>0.037487</td>\n",
       "      <td>0.0</td>\n",
       "      <td>0.0</td>\n",
       "      <td>9040266.0</td>\n",
       "      <td>73694.0</td>\n",
       "      <td>37.496537</td>\n",
       "      <td>127.105726</td>\n",
       "      <td>7.0</td>\n",
       "      <td>18.0</td>\n",
       "      <td>1.0</td>\n",
       "      <td>0.0</td>\n",
       "      <td>9.253223</td>\n",
       "      <td>0.0936</td>\n",
       "      <td>4271.9</td>\n",
       "    </tr>\n",
       "    <tr>\n",
       "      <th>1</th>\n",
       "      <td>송파구 가락2동</td>\n",
       "      <td>송파구</td>\n",
       "      <td>가락2동</td>\n",
       "      <td>11710632.0</td>\n",
       "      <td>1.34</td>\n",
       "      <td>0.056981</td>\n",
       "      <td>10.0</td>\n",
       "      <td>0.0</td>\n",
       "      <td>5631398.0</td>\n",
       "      <td>73694.0</td>\n",
       "      <td>37.498639</td>\n",
       "      <td>127.126488</td>\n",
       "      <td>5.0</td>\n",
       "      <td>0.0</td>\n",
       "      <td>2.0</td>\n",
       "      <td>1.0</td>\n",
       "      <td>9.253223</td>\n",
       "      <td>0.0671</td>\n",
       "      <td>4271.9</td>\n",
       "    </tr>\n",
       "    <tr>\n",
       "      <th>2</th>\n",
       "      <td>송파구 가락본동</td>\n",
       "      <td>송파구</td>\n",
       "      <td>가락본동</td>\n",
       "      <td>11710620.0</td>\n",
       "      <td>0.96</td>\n",
       "      <td>0.096536</td>\n",
       "      <td>30.0</td>\n",
       "      <td>1.0</td>\n",
       "      <td>3081377.0</td>\n",
       "      <td>73694.0</td>\n",
       "      <td>37.495585</td>\n",
       "      <td>127.121830</td>\n",
       "      <td>7.0</td>\n",
       "      <td>1.0</td>\n",
       "      <td>2.0</td>\n",
       "      <td>2.0</td>\n",
       "      <td>9.253223</td>\n",
       "      <td>0.0473</td>\n",
       "      <td>4271.9</td>\n",
       "    </tr>\n",
       "    <tr>\n",
       "      <th>3</th>\n",
       "      <td>강남구 개포1동</td>\n",
       "      <td>강남구</td>\n",
       "      <td>개포1동</td>\n",
       "      <td>11680660.0</td>\n",
       "      <td>1.27</td>\n",
       "      <td>0.070165</td>\n",
       "      <td>0.0</td>\n",
       "      <td>0.0</td>\n",
       "      <td>1375563.0</td>\n",
       "      <td>68999.0</td>\n",
       "      <td>37.481925</td>\n",
       "      <td>127.057439</td>\n",
       "      <td>3.0</td>\n",
       "      <td>2.0</td>\n",
       "      <td>3.0</td>\n",
       "      <td>0.0</td>\n",
       "      <td>8.917437</td>\n",
       "      <td>0.0697</td>\n",
       "      <td>5556.9</td>\n",
       "    </tr>\n",
       "    <tr>\n",
       "      <th>4</th>\n",
       "      <td>강남구 개포2동</td>\n",
       "      <td>강남구</td>\n",
       "      <td>개포2동</td>\n",
       "      <td>11680670.0</td>\n",
       "      <td>2.51</td>\n",
       "      <td>0.040364</td>\n",
       "      <td>0.0</td>\n",
       "      <td>0.0</td>\n",
       "      <td>2063259.0</td>\n",
       "      <td>68999.0</td>\n",
       "      <td>37.489766</td>\n",
       "      <td>127.069056</td>\n",
       "      <td>13.0</td>\n",
       "      <td>5.0</td>\n",
       "      <td>4.0</td>\n",
       "      <td>0.0</td>\n",
       "      <td>8.917437</td>\n",
       "      <td>0.0845</td>\n",
       "      <td>5556.9</td>\n",
       "    </tr>\n",
       "    <tr>\n",
       "      <th>...</th>\n",
       "      <td>...</td>\n",
       "      <td>...</td>\n",
       "      <td>...</td>\n",
       "      <td>...</td>\n",
       "      <td>...</td>\n",
       "      <td>...</td>\n",
       "      <td>...</td>\n",
       "      <td>...</td>\n",
       "      <td>...</td>\n",
       "      <td>...</td>\n",
       "      <td>...</td>\n",
       "      <td>...</td>\n",
       "      <td>...</td>\n",
       "      <td>...</td>\n",
       "      <td>...</td>\n",
       "      <td>...</td>\n",
       "      <td>...</td>\n",
       "      <td>...</td>\n",
       "      <td>...</td>\n",
       "    </tr>\n",
       "    <tr>\n",
       "      <th>59</th>\n",
       "      <td>송파구 풍납1동</td>\n",
       "      <td>송파구</td>\n",
       "      <td>풍납1동</td>\n",
       "      <td>11710510.0</td>\n",
       "      <td>1.37</td>\n",
       "      <td>0.106685</td>\n",
       "      <td>0.0</td>\n",
       "      <td>0.0</td>\n",
       "      <td>1185664.0</td>\n",
       "      <td>73694.0</td>\n",
       "      <td>37.538055</td>\n",
       "      <td>127.122215</td>\n",
       "      <td>4.0</td>\n",
       "      <td>3.0</td>\n",
       "      <td>0.0</td>\n",
       "      <td>0.0</td>\n",
       "      <td>9.253223</td>\n",
       "      <td>0.0516</td>\n",
       "      <td>4271.9</td>\n",
       "    </tr>\n",
       "    <tr>\n",
       "      <th>60</th>\n",
       "      <td>송파구 풍납2동</td>\n",
       "      <td>송파구</td>\n",
       "      <td>풍납2동</td>\n",
       "      <td>11710520.0</td>\n",
       "      <td>0.77</td>\n",
       "      <td>0.093297</td>\n",
       "      <td>0.0</td>\n",
       "      <td>1.0</td>\n",
       "      <td>2236027.0</td>\n",
       "      <td>73694.0</td>\n",
       "      <td>37.528779</td>\n",
       "      <td>127.116814</td>\n",
       "      <td>12.0</td>\n",
       "      <td>12.0</td>\n",
       "      <td>3.0</td>\n",
       "      <td>3.0</td>\n",
       "      <td>9.253223</td>\n",
       "      <td>0.0631</td>\n",
       "      <td>4271.9</td>\n",
       "    </tr>\n",
       "    <tr>\n",
       "      <th>61</th>\n",
       "      <td>중구 필동</td>\n",
       "      <td>중구</td>\n",
       "      <td>필동</td>\n",
       "      <td>11140570.0</td>\n",
       "      <td>1.14</td>\n",
       "      <td>0.172066</td>\n",
       "      <td>0.0</td>\n",
       "      <td>0.0</td>\n",
       "      <td>7107052.0</td>\n",
       "      <td>22818.0</td>\n",
       "      <td>37.560148</td>\n",
       "      <td>126.995572</td>\n",
       "      <td>4.0</td>\n",
       "      <td>8.0</td>\n",
       "      <td>0.0</td>\n",
       "      <td>6.0</td>\n",
       "      <td>9.253223</td>\n",
       "      <td>0.0668</td>\n",
       "      <td>1533.7</td>\n",
       "    </tr>\n",
       "    <tr>\n",
       "      <th>62</th>\n",
       "      <td>중구 황학동</td>\n",
       "      <td>중구</td>\n",
       "      <td>황학동</td>\n",
       "      <td>11140670.0</td>\n",
       "      <td>0.33</td>\n",
       "      <td>0.175523</td>\n",
       "      <td>0.0</td>\n",
       "      <td>0.0</td>\n",
       "      <td>1243065.0</td>\n",
       "      <td>22818.0</td>\n",
       "      <td>37.568542</td>\n",
       "      <td>127.020827</td>\n",
       "      <td>2.0</td>\n",
       "      <td>0.0</td>\n",
       "      <td>0.0</td>\n",
       "      <td>1.0</td>\n",
       "      <td>9.253223</td>\n",
       "      <td>0.0535</td>\n",
       "      <td>1533.7</td>\n",
       "    </tr>\n",
       "    <tr>\n",
       "      <th>63</th>\n",
       "      <td>중구 회현동</td>\n",
       "      <td>중구</td>\n",
       "      <td>회현동</td>\n",
       "      <td>11140540.0</td>\n",
       "      <td>0.84</td>\n",
       "      <td>0.120723</td>\n",
       "      <td>0.0</td>\n",
       "      <td>1.0</td>\n",
       "      <td>25705050.0</td>\n",
       "      <td>22818.0</td>\n",
       "      <td>37.557288</td>\n",
       "      <td>126.979369</td>\n",
       "      <td>14.0</td>\n",
       "      <td>8.0</td>\n",
       "      <td>0.0</td>\n",
       "      <td>5.0</td>\n",
       "      <td>9.253223</td>\n",
       "      <td>0.0657</td>\n",
       "      <td>1533.7</td>\n",
       "    </tr>\n",
       "  </tbody>\n",
       "</table>\n",
       "<p>64 rows × 19 columns</p>\n",
       "</div>"
      ],
      "text/plain": [
       "       gd_nm goo_nm dong_nm     dong_ID  dong_area  one_ratio  cc_value  \\\n",
       "0   송파구 가락1동    송파구    가락1동  11710631.0       1.46   0.037487       0.0   \n",
       "1   송파구 가락2동    송파구    가락2동  11710632.0       1.34   0.056981      10.0   \n",
       "2   송파구 가락본동    송파구    가락본동  11710620.0       0.96   0.096536      30.0   \n",
       "3   강남구 개포1동    강남구    개포1동  11680660.0       1.27   0.070165       0.0   \n",
       "4   강남구 개포2동    강남구    개포2동  11680670.0       2.51   0.040364       0.0   \n",
       "..       ...    ...     ...         ...        ...        ...       ...   \n",
       "59  송파구 풍납1동    송파구    풍납1동  11710510.0       1.37   0.106685       0.0   \n",
       "60  송파구 풍납2동    송파구    풍납2동  11710520.0       0.77   0.093297       0.0   \n",
       "61     중구 필동     중구      필동  11140570.0       1.14   0.172066       0.0   \n",
       "62    중구 황학동     중구     황학동  11140670.0       0.33   0.175523       0.0   \n",
       "63    중구 회현동     중구     회현동  11140540.0       0.84   0.120723       0.0   \n",
       "\n",
       "    count_zero   sum_trans  sum_order          y           x  count_bicycle  \\\n",
       "0          0.0   9040266.0    73694.0  37.496537  127.105726            7.0   \n",
       "1          0.0   5631398.0    73694.0  37.498639  127.126488            5.0   \n",
       "2          1.0   3081377.0    73694.0  37.495585  127.121830            7.0   \n",
       "3          0.0   1375563.0    68999.0  37.481925  127.057439            3.0   \n",
       "4          0.0   2063259.0    68999.0  37.489766  127.069056           13.0   \n",
       "..         ...         ...        ...        ...         ...            ...   \n",
       "59         0.0   1185664.0    73694.0  37.538055  127.122215            4.0   \n",
       "60         1.0   2236027.0    73694.0  37.528779  127.116814           12.0   \n",
       "61         0.0   7107052.0    22818.0  37.560148  126.995572            4.0   \n",
       "62         0.0   1243065.0    22818.0  37.568542  127.020827            2.0   \n",
       "63         1.0  25705050.0    22818.0  37.557288  126.979369           14.0   \n",
       "\n",
       "    count_green  count_school  count_top air_value  eco_ratio sum_waste  \n",
       "0          18.0           1.0        0.0  9.253223     0.0936    4271.9  \n",
       "1           0.0           2.0        1.0  9.253223     0.0671    4271.9  \n",
       "2           1.0           2.0        2.0  9.253223     0.0473    4271.9  \n",
       "3           2.0           3.0        0.0  8.917437     0.0697    5556.9  \n",
       "4           5.0           4.0        0.0  8.917437     0.0845    5556.9  \n",
       "..          ...           ...        ...       ...        ...       ...  \n",
       "59          3.0           0.0        0.0  9.253223     0.0516    4271.9  \n",
       "60         12.0           3.0        3.0  9.253223     0.0631    4271.9  \n",
       "61          8.0           0.0        6.0  9.253223     0.0668    1533.7  \n",
       "62          0.0           0.0        1.0  9.253223     0.0535    1533.7  \n",
       "63          8.0           0.0        5.0  9.253223     0.0657    1533.7  \n",
       "\n",
       "[64 rows x 19 columns]"
      ]
     },
     "execution_count": 129,
     "metadata": {},
     "output_type": "execute_result"
    }
   ],
   "source": [
    "result[\"sum_waste\"] = \"\"\n",
    "result[\"sum_waste\"][result[\"goo_nm\"]==\"강남구\"] = 5556.9\n",
    "result[\"sum_waste\"][result[\"goo_nm\"]==\"송파구\"] = 4271.9\n",
    "result[\"sum_waste\"][result[\"goo_nm\"]==\"중구\"] = 1533.7\n",
    "result"
   ]
  },
  {
   "cell_type": "code",
   "execution_count": 130,
   "id": "41003adb",
   "metadata": {},
   "outputs": [],
   "source": [
    "result.to_excel(\"fin_dataset_ecodf.xlsx\")"
   ]
  },
  {
   "cell_type": "code",
   "execution_count": null,
   "id": "1b4c7444",
   "metadata": {},
   "outputs": [],
   "source": []
  },
  {
   "cell_type": "code",
   "execution_count": null,
   "id": "661b3550",
   "metadata": {},
   "outputs": [],
   "source": []
  },
  {
   "cell_type": "code",
   "execution_count": null,
   "id": "75547d92",
   "metadata": {},
   "outputs": [],
   "source": []
  }
 ],
 "metadata": {
  "kernelspec": {
   "display_name": "Python 3 (ipykernel)",
   "language": "python",
   "name": "python3"
  },
  "language_info": {
   "codemirror_mode": {
    "name": "ipython",
    "version": 3
   },
   "file_extension": ".py",
   "mimetype": "text/x-python",
   "name": "python",
   "nbconvert_exporter": "python",
   "pygments_lexer": "ipython3",
   "version": "3.9.12"
  }
 },
 "nbformat": 4,
 "nbformat_minor": 5
}
