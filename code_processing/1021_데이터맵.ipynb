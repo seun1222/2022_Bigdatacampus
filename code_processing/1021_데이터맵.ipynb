{
 "cells": [
  {
   "cell_type": "code",
   "execution_count": 1,
   "id": "27f9d4a0",
   "metadata": {},
   "outputs": [],
   "source": [
    "import pandas as pd\n",
    "import numpy as np"
   ]
  },
  {
   "cell_type": "code",
   "execution_count": 4,
   "id": "08ae84e2",
   "metadata": {},
   "outputs": [],
   "source": [
    "# df1 = pd.read_csv(\"제로마켓_지역구.csv\",encoding='CP949')\n",
    "df1 = pd.read_excel(\"최종_제로마켓_지역구.xlsx \")"
   ]
  },
  {
   "cell_type": "code",
   "execution_count": 6,
   "id": "ae70066e",
   "metadata": {},
   "outputs": [],
   "source": [
    "df2 = pd.read_excel(\"호선명_역명_2020합계_지역구.xlsx \")\n",
    "df2 = df2.drop(columns={\"Unnamed: 0\"})"
   ]
  },
  {
   "cell_type": "code",
   "execution_count": 7,
   "id": "9f91f8e5",
   "metadata": {},
   "outputs": [],
   "source": [
    "df3 = pd.read_excel(\"최종_1인가구_주소별_가중치.xlsx \")\n",
    "df3 = df3.drop(columns=\"Unnamed: 0\")\n",
    "df3 = df3.sort_values([\"행정동\"], ascending=True)"
   ]
  },
  {
   "cell_type": "code",
   "execution_count": 16,
   "id": "944ec16f",
   "metadata": {},
   "outputs": [],
   "source": [
    "df4 = pd.read_excel(\"최종_행정동별_상권변화지표.xlsx\")\n",
    "df4 = df4.drop(columns={\"Unnamed: 0\"})"
   ]
  },
  {
   "cell_type": "code",
   "execution_count": 17,
   "id": "67459c2b",
   "metadata": {},
   "outputs": [],
   "source": [
    "df5 = pd.read_excel(\"최종_자치구별_1인가구_배달주문_및_총합.xlsx\")\n",
    "df5 = df5.drop(columns={\"Unnamed: 0\"})"
   ]
  },
  {
   "cell_type": "code",
   "execution_count": 47,
   "id": "852e458f",
   "metadata": {},
   "outputs": [],
   "source": [
    "df6 = pd.read_excel(\"최종_서울시_대학_DB정보.xlsx\")"
   ]
  },
  {
   "cell_type": "code",
   "execution_count": 52,
   "id": "a799534c",
   "metadata": {},
   "outputs": [
    {
     "data": {
      "text/plain": [
       "(424, 2)"
      ]
     },
     "execution_count": 52,
     "metadata": {},
     "output_type": "execute_result"
    }
   ],
   "source": [
    "# 행정동 이름 확인하기 위한 df\n",
    "gu_dong=df4[[\"지역구\", \"행정동\"]]\n",
    "gu_dong.shape"
   ]
  },
  {
   "cell_type": "markdown",
   "id": "8fe2ffa2",
   "metadata": {},
   "source": [
    "### 최종_제로마켓_지역구"
   ]
  },
  {
   "cell_type": "code",
   "execution_count": 5,
   "id": "e612ea35",
   "metadata": {},
   "outputs": [
    {
     "data": {
      "text/html": [
       "<div>\n",
       "<style scoped>\n",
       "    .dataframe tbody tr th:only-of-type {\n",
       "        vertical-align: middle;\n",
       "    }\n",
       "\n",
       "    .dataframe tbody tr th {\n",
       "        vertical-align: top;\n",
       "    }\n",
       "\n",
       "    .dataframe thead th {\n",
       "        text-align: right;\n",
       "    }\n",
       "</style>\n",
       "<table border=\"1\" class=\"dataframe\">\n",
       "  <thead>\n",
       "    <tr style=\"text-align: right;\">\n",
       "      <th></th>\n",
       "      <th>상호명</th>\n",
       "      <th>도로명 주소</th>\n",
       "      <th>지역구</th>\n",
       "      <th>행정동</th>\n",
       "    </tr>\n",
       "  </thead>\n",
       "  <tbody>\n",
       "    <tr>\n",
       "      <th>0</th>\n",
       "      <td>1.5도씨</td>\n",
       "      <td>서울특별시 관악구 조원로18길 15</td>\n",
       "      <td>관악구</td>\n",
       "      <td>조원동</td>\n",
       "    </tr>\n",
       "    <tr>\n",
       "      <th>1</th>\n",
       "      <td>Dear.eco(디어 에코)</td>\n",
       "      <td>서울특별시 광진구 아차산로65길 22</td>\n",
       "      <td>광진구</td>\n",
       "      <td>구의3동</td>\n",
       "    </tr>\n",
       "    <tr>\n",
       "      <th>2</th>\n",
       "      <td>감탄상회</td>\n",
       "      <td>서울특별시 동작구 양녕로29길 16 101호</td>\n",
       "      <td>동작구</td>\n",
       "      <td>상도4동</td>\n",
       "    </tr>\n",
       "    <tr>\n",
       "      <th>3</th>\n",
       "      <td>공기(대안생활 1호점)</td>\n",
       "      <td>서울특별시 강동구 상암로 10</td>\n",
       "      <td>강동구</td>\n",
       "      <td>암사2동</td>\n",
       "    </tr>\n",
       "    <tr>\n",
       "      <th>4</th>\n",
       "      <td>공방 꽃피는 삼월에</td>\n",
       "      <td>서울특별시 동대문구 답십리로30길 22-1</td>\n",
       "      <td>동대문구</td>\n",
       "      <td>답십리1동</td>\n",
       "    </tr>\n",
       "    <tr>\n",
       "      <th>5</th>\n",
       "      <td>굿바이마켓</td>\n",
       "      <td>서울특별시 용산구 서빙고로 17</td>\n",
       "      <td>용산구</td>\n",
       "      <td>한강로동</td>\n",
       "    </tr>\n",
       "    <tr>\n",
       "      <th>6</th>\n",
       "      <td>늘보따리</td>\n",
       "      <td>서울특별시 서대문구 연희로4길 24</td>\n",
       "      <td>서대문구</td>\n",
       "      <td>신촌동</td>\n",
       "    </tr>\n",
       "    <tr>\n",
       "      <th>7</th>\n",
       "      <td>더피커</td>\n",
       "      <td>서울특별시 성동구 왕십리로 115</td>\n",
       "      <td>성동구</td>\n",
       "      <td>성수1가2동</td>\n",
       "    </tr>\n",
       "    <tr>\n",
       "      <th>8</th>\n",
       "      <td>덕분애</td>\n",
       "      <td>서울특별시 서초구 서초대로 389</td>\n",
       "      <td>서초구</td>\n",
       "      <td>서초4동</td>\n",
       "    </tr>\n",
       "    <tr>\n",
       "      <th>9</th>\n",
       "      <td>디어얼스(Dear. Earth)</td>\n",
       "      <td>서울특별시 서대문구 수색로 43</td>\n",
       "      <td>서대문구</td>\n",
       "      <td>남가좌1동</td>\n",
       "    </tr>\n",
       "  </tbody>\n",
       "</table>\n",
       "</div>"
      ],
      "text/plain": [
       "                 상호명                    도로명 주소   지역구     행정동\n",
       "0              1.5도씨       서울특별시 관악구 조원로18길 15   관악구     조원동\n",
       "1    Dear.eco(디어 에코)      서울특별시 광진구 아차산로65길 22   광진구    구의3동\n",
       "2               감탄상회  서울특별시 동작구 양녕로29길 16 101호   동작구    상도4동\n",
       "3       공기(대안생활 1호점)          서울특별시 강동구 상암로 10   강동구    암사2동\n",
       "4         공방 꽃피는 삼월에   서울특별시 동대문구 답십리로30길 22-1  동대문구   답십리1동\n",
       "5              굿바이마켓         서울특별시 용산구 서빙고로 17   용산구    한강로동\n",
       "6               늘보따리       서울특별시 서대문구 연희로4길 24  서대문구     신촌동\n",
       "7                더피커        서울특별시 성동구 왕십리로 115   성동구  성수1가2동\n",
       "8                덕분애        서울특별시 서초구 서초대로 389   서초구    서초4동\n",
       "9  디어얼스(Dear. Earth)         서울특별시 서대문구 수색로 43  서대문구   남가좌1동"
      ]
     },
     "execution_count": 5,
     "metadata": {},
     "output_type": "execute_result"
    }
   ],
   "source": [
    "df1.head(10)"
   ]
  },
  {
   "cell_type": "code",
   "execution_count": null,
   "id": "174a87cb",
   "metadata": {},
   "outputs": [],
   "source": [
    "# 제로마켓 행정구 name을 제대로 썼는지 확인해보려고 gu_dong 적용"
   ]
  },
  {
   "cell_type": "code",
   "execution_count": 76,
   "id": "eb35d98c",
   "metadata": {},
   "outputs": [
    {
     "data": {
      "text/plain": [
       "40"
      ]
     },
     "execution_count": 76,
     "metadata": {},
     "output_type": "execute_result"
    }
   ],
   "source": [
    "len(df1.행정동.unique())"
   ]
  },
  {
   "cell_type": "code",
   "execution_count": 77,
   "id": "5dec3709",
   "metadata": {},
   "outputs": [
    {
     "data": {
      "text/plain": [
       "40"
      ]
     },
     "execution_count": 77,
     "metadata": {},
     "output_type": "execute_result"
    }
   ],
   "source": [
    "arr=[]\n",
    "for i in df1.행정동.unique():\n",
    "    arr.append(gu_dong[gu_dong.행정동 == i][\"행정동\"])        #print(i, \"yes\")\n",
    "\n",
    "len(arr)"
   ]
  },
  {
   "cell_type": "markdown",
   "id": "ab8a86ba",
   "metadata": {},
   "source": [
    "### 호선명_역명_2020합계_지역구"
   ]
  },
  {
   "cell_type": "code",
   "execution_count": 11,
   "id": "9e54d507",
   "metadata": {},
   "outputs": [
    {
     "data": {
      "text/html": [
       "<div>\n",
       "<style scoped>\n",
       "    .dataframe tbody tr th:only-of-type {\n",
       "        vertical-align: middle;\n",
       "    }\n",
       "\n",
       "    .dataframe tbody tr th {\n",
       "        vertical-align: top;\n",
       "    }\n",
       "\n",
       "    .dataframe thead th {\n",
       "        text-align: right;\n",
       "    }\n",
       "</style>\n",
       "<table border=\"1\" class=\"dataframe\">\n",
       "  <thead>\n",
       "    <tr style=\"text-align: right;\">\n",
       "      <th></th>\n",
       "      <th>line_nm</th>\n",
       "      <th>station_nm</th>\n",
       "      <th>sum_line_station</th>\n",
       "      <th>지역구</th>\n",
       "      <th>getoff_sum</th>\n",
       "    </tr>\n",
       "  </thead>\n",
       "  <tbody>\n",
       "    <tr>\n",
       "      <th>0</th>\n",
       "      <td>우이신설선</td>\n",
       "      <td>4.19민주묘지</td>\n",
       "      <td>688568</td>\n",
       "      <td>강북구</td>\n",
       "      <td>25855961</td>\n",
       "    </tr>\n",
       "    <tr>\n",
       "      <th>1</th>\n",
       "      <td>3호선,8호선</td>\n",
       "      <td>가락시장</td>\n",
       "      <td>4401586</td>\n",
       "      <td>송파구</td>\n",
       "      <td>72306079</td>\n",
       "    </tr>\n",
       "  </tbody>\n",
       "</table>\n",
       "</div>"
      ],
      "text/plain": [
       "   line_nm station_nm  sum_line_station  지역구  getoff_sum\n",
       "0    우이신설선   4.19민주묘지            688568  강북구    25855961\n",
       "1  3호선,8호선       가락시장           4401586  송파구    72306079"
      ]
     },
     "execution_count": 11,
     "metadata": {},
     "output_type": "execute_result"
    }
   ],
   "source": [
    "df2.head(2)"
   ]
  },
  {
   "cell_type": "markdown",
   "id": "4554c781",
   "metadata": {},
   "source": [
    "### 1인 가구 "
   ]
  },
  {
   "cell_type": "code",
   "execution_count": 12,
   "id": "ebf741db",
   "metadata": {},
   "outputs": [
    {
     "data": {
      "text/html": [
       "<div>\n",
       "<style scoped>\n",
       "    .dataframe tbody tr th:only-of-type {\n",
       "        vertical-align: middle;\n",
       "    }\n",
       "\n",
       "    .dataframe tbody tr th {\n",
       "        vertical-align: top;\n",
       "    }\n",
       "\n",
       "    .dataframe thead th {\n",
       "        text-align: right;\n",
       "    }\n",
       "</style>\n",
       "<table border=\"1\" class=\"dataframe\">\n",
       "  <thead>\n",
       "    <tr style=\"text-align: right;\">\n",
       "      <th></th>\n",
       "      <th>지역구</th>\n",
       "      <th>행정동</th>\n",
       "      <th>전체인구</th>\n",
       "      <th>고령층 제외 1인가구</th>\n",
       "    </tr>\n",
       "  </thead>\n",
       "  <tbody>\n",
       "    <tr>\n",
       "      <th>391</th>\n",
       "      <td>송파구</td>\n",
       "      <td>가락1동</td>\n",
       "      <td>9534.0</td>\n",
       "      <td>1045.0</td>\n",
       "    </tr>\n",
       "    <tr>\n",
       "      <th>392</th>\n",
       "      <td>송파구</td>\n",
       "      <td>가락2동</td>\n",
       "      <td>11482.0</td>\n",
       "      <td>1892.0</td>\n",
       "    </tr>\n",
       "  </tbody>\n",
       "</table>\n",
       "</div>"
      ],
      "text/plain": [
       "     지역구   행정동     전체인구  고령층 제외 1인가구\n",
       "391  송파구  가락1동   9534.0       1045.0\n",
       "392  송파구  가락2동  11482.0       1892.0"
      ]
     },
     "execution_count": 12,
     "metadata": {},
     "output_type": "execute_result"
    }
   ],
   "source": [
    "df3.head(2)"
   ]
  },
  {
   "cell_type": "markdown",
   "id": "97000b53",
   "metadata": {},
   "source": [
    "### 상권변화지표"
   ]
  },
  {
   "cell_type": "code",
   "execution_count": 40,
   "id": "ec160c5d",
   "metadata": {},
   "outputs": [
    {
     "data": {
      "text/html": [
       "<div>\n",
       "<style scoped>\n",
       "    .dataframe tbody tr th:only-of-type {\n",
       "        vertical-align: middle;\n",
       "    }\n",
       "\n",
       "    .dataframe tbody tr th {\n",
       "        vertical-align: top;\n",
       "    }\n",
       "\n",
       "    .dataframe thead th {\n",
       "        text-align: right;\n",
       "    }\n",
       "</style>\n",
       "<table border=\"1\" class=\"dataframe\">\n",
       "  <thead>\n",
       "    <tr style=\"text-align: right;\">\n",
       "      <th></th>\n",
       "      <th>지역구</th>\n",
       "      <th>행정동_ID</th>\n",
       "      <th>행정동</th>\n",
       "      <th>상권변화지표</th>\n",
       "    </tr>\n",
       "  </thead>\n",
       "  <tbody>\n",
       "    <tr>\n",
       "      <th>0</th>\n",
       "      <td>송파구</td>\n",
       "      <td>11710631</td>\n",
       "      <td>가락1동</td>\n",
       "      <td>HH,HH,HH,HH</td>\n",
       "    </tr>\n",
       "    <tr>\n",
       "      <th>1</th>\n",
       "      <td>송파구</td>\n",
       "      <td>11710632</td>\n",
       "      <td>가락2동</td>\n",
       "      <td>HL,HL,HL,HL</td>\n",
       "    </tr>\n",
       "  </tbody>\n",
       "</table>\n",
       "</div>"
      ],
      "text/plain": [
       "   지역구    행정동_ID   행정동       상권변화지표\n",
       "0  송파구  11710631  가락1동  HH,HH,HH,HH\n",
       "1  송파구  11710632  가락2동  HL,HL,HL,HL"
      ]
     },
     "execution_count": 40,
     "metadata": {},
     "output_type": "execute_result"
    }
   ],
   "source": [
    "df4.head(2)"
   ]
  },
  {
   "cell_type": "code",
   "execution_count": 23,
   "id": "47c1871b",
   "metadata": {},
   "outputs": [
    {
     "data": {
      "text/plain": [
       "array(['HH,HH,HH,HH', 'HL,HL,HL,HL', 'LL,LL,LL,LL', 'HL,LL,LL,LL',\n",
       "       'LL,LL,LL,LH', 'LH,LH,LH,LH', 'LL,LH,LH,LH', 'HH,HH,HL,HL',\n",
       "       'LH,LH,HH,LH', 'LH,HL,HL,HH', 'HL,HH,HH,HH', 'HL,HL,LL,LL',\n",
       "       'LL,LL,LL,HL', 'LH,HL,HL,HL', 'LH,LH,LH,HH', 'LH,HH,HH,HH',\n",
       "       'HH,HH,HH,LH', 'HL,HL,HL,HH', 'LH,HH,HH,LH', 'LL,LL,HL,HL',\n",
       "       'LH,LH,HH,HH', 'LL,LL,LH,LL', 'HL,HH,HL,HL', 'LL,LL,LH,LH',\n",
       "       'HL,HL,HH,HH', 'LH,LL,LL,LL', 'HL,LL,LL,HL', 'HH,LH,LH,LH'],\n",
       "      dtype=object)"
      ]
     },
     "execution_count": 23,
     "metadata": {},
     "output_type": "execute_result"
    }
   ],
   "source": [
    "df4.상권변화지표.unique()"
   ]
  },
  {
   "cell_type": "markdown",
   "id": "38b02305",
   "metadata": {},
   "source": [
    "### 주문지역 주거 특성"
   ]
  },
  {
   "cell_type": "code",
   "execution_count": 24,
   "id": "94f6ef86",
   "metadata": {},
   "outputs": [
    {
     "data": {
      "text/html": [
       "<div>\n",
       "<style scoped>\n",
       "    .dataframe tbody tr th:only-of-type {\n",
       "        vertical-align: middle;\n",
       "    }\n",
       "\n",
       "    .dataframe tbody tr th {\n",
       "        vertical-align: top;\n",
       "    }\n",
       "\n",
       "    .dataframe thead th {\n",
       "        text-align: right;\n",
       "    }\n",
       "</style>\n",
       "<table border=\"1\" class=\"dataframe\">\n",
       "  <thead>\n",
       "    <tr style=\"text-align: right;\">\n",
       "      <th></th>\n",
       "      <th>시군구코드</th>\n",
       "      <th>지역구</th>\n",
       "      <th>배달주문 빈도수</th>\n",
       "      <th>전체인구</th>\n",
       "      <th>고령층제외_1인가구</th>\n",
       "      <th>1인가구 평균 배달주문 빈도수</th>\n",
       "    </tr>\n",
       "  </thead>\n",
       "  <tbody>\n",
       "    <tr>\n",
       "      <th>0</th>\n",
       "      <td>11110</td>\n",
       "      <td>종로구</td>\n",
       "      <td>25983</td>\n",
       "      <td>63414</td>\n",
       "      <td>21086</td>\n",
       "      <td>1.232239</td>\n",
       "    </tr>\n",
       "    <tr>\n",
       "      <th>1</th>\n",
       "      <td>11140</td>\n",
       "      <td>중구</td>\n",
       "      <td>22818</td>\n",
       "      <td>55093</td>\n",
       "      <td>18292</td>\n",
       "      <td>1.247431</td>\n",
       "    </tr>\n",
       "  </tbody>\n",
       "</table>\n",
       "</div>"
      ],
      "text/plain": [
       "   시군구코드  지역구  배달주문 빈도수   전체인구  고령층제외_1인가구  1인가구 평균 배달주문 빈도수\n",
       "0  11110  종로구     25983  63414       21086          1.232239\n",
       "1  11140   중구     22818  55093       18292          1.247431"
      ]
     },
     "execution_count": 24,
     "metadata": {},
     "output_type": "execute_result"
    }
   ],
   "source": [
    "df5.head(2)"
   ]
  },
  {
   "cell_type": "markdown",
   "id": "7f889855",
   "metadata": {},
   "source": [
    "### 대학가 "
   ]
  },
  {
   "cell_type": "code",
   "execution_count": 53,
   "id": "6c44fcff",
   "metadata": {},
   "outputs": [
    {
     "data": {
      "text/html": [
       "<div>\n",
       "<style scoped>\n",
       "    .dataframe tbody tr th:only-of-type {\n",
       "        vertical-align: middle;\n",
       "    }\n",
       "\n",
       "    .dataframe tbody tr th {\n",
       "        vertical-align: top;\n",
       "    }\n",
       "\n",
       "    .dataframe thead th {\n",
       "        text-align: right;\n",
       "    }\n",
       "</style>\n",
       "<table border=\"1\" class=\"dataframe\">\n",
       "  <thead>\n",
       "    <tr style=\"text-align: right;\">\n",
       "      <th></th>\n",
       "      <th>학교명</th>\n",
       "      <th>지역구</th>\n",
       "      <th>행정동</th>\n",
       "    </tr>\n",
       "  </thead>\n",
       "  <tbody>\n",
       "    <tr>\n",
       "      <th>0</th>\n",
       "      <td>한영신학대학교</td>\n",
       "      <td>구로구</td>\n",
       "      <td>개봉1동</td>\n",
       "    </tr>\n",
       "    <tr>\n",
       "      <th>1</th>\n",
       "      <td>동양미래대학교</td>\n",
       "      <td>구로구</td>\n",
       "      <td>고척1동</td>\n",
       "    </tr>\n",
       "  </tbody>\n",
       "</table>\n",
       "</div>"
      ],
      "text/plain": [
       "       학교명  지역구   행정동\n",
       "0  한영신학대학교  구로구  개봉1동\n",
       "1  동양미래대학교  구로구  고척1동"
      ]
     },
     "execution_count": 53,
     "metadata": {},
     "output_type": "execute_result"
    }
   ],
   "source": [
    "df6.head(2)"
   ]
  },
  {
   "cell_type": "code",
   "execution_count": 27,
   "id": "846f4781",
   "metadata": {},
   "outputs": [
    {
     "data": {
      "text/html": [
       "<div>\n",
       "<style scoped>\n",
       "    .dataframe tbody tr th:only-of-type {\n",
       "        vertical-align: middle;\n",
       "    }\n",
       "\n",
       "    .dataframe tbody tr th {\n",
       "        vertical-align: top;\n",
       "    }\n",
       "\n",
       "    .dataframe thead th {\n",
       "        text-align: right;\n",
       "    }\n",
       "</style>\n",
       "<table border=\"1\" class=\"dataframe\">\n",
       "  <thead>\n",
       "    <tr style=\"text-align: right;\">\n",
       "      <th></th>\n",
       "      <th>지역구</th>\n",
       "      <th>행정동</th>\n",
       "    </tr>\n",
       "  </thead>\n",
       "  <tbody>\n",
       "    <tr>\n",
       "      <th>103</th>\n",
       "      <td>중랑구</td>\n",
       "      <td>면목3.8동</td>\n",
       "    </tr>\n",
       "  </tbody>\n",
       "</table>\n",
       "</div>"
      ],
      "text/plain": [
       "     지역구     행정동\n",
       "103  중랑구  면목3.8동"
      ]
     },
     "execution_count": 27,
     "metadata": {},
     "output_type": "execute_result"
    }
   ],
   "source": [
    "gu_dong[gu_dong[\"행정동\"]==\"면목3.8동\"]"
   ]
  },
  {
   "cell_type": "code",
   "execution_count": 74,
   "id": "3c797839",
   "metadata": {},
   "outputs": [
    {
     "data": {
      "text/plain": [
       "53"
      ]
     },
     "execution_count": 74,
     "metadata": {},
     "output_type": "execute_result"
    }
   ],
   "source": [
    "len(df6.행정동.unique())"
   ]
  },
  {
   "cell_type": "code",
   "execution_count": 75,
   "id": "8dbbd0ef",
   "metadata": {},
   "outputs": [
    {
     "data": {
      "text/plain": [
       "53"
      ]
     },
     "execution_count": 75,
     "metadata": {},
     "output_type": "execute_result"
    }
   ],
   "source": [
    "arr=[]\n",
    "for i in df6.행정동.unique():\n",
    "    arr.append(gu_dong[gu_dong.행정동 == i][\"행정동\"])        #print(i, \"yes\")\n",
    "\n",
    "len(arr)"
   ]
  },
  {
   "cell_type": "markdown",
   "id": "ca8c3242",
   "metadata": {},
   "source": [
    "## 지역구 지수(가중치)\n",
    "- 배달주문 \n",
    "\n",
    "## 상권변화\n",
    "\n",
    "\n",
    "## 행정동\n",
    "- 제로마켓\n",
    "- 대학가 \n"
   ]
  },
  {
   "cell_type": "code",
   "execution_count": null,
   "id": "7890435c",
   "metadata": {},
   "outputs": [],
   "source": []
  }
 ],
 "metadata": {
  "kernelspec": {
   "display_name": "Python 3 (ipykernel)",
   "language": "python",
   "name": "python3"
  },
  "language_info": {
   "codemirror_mode": {
    "name": "ipython",
    "version": 3
   },
   "file_extension": ".py",
   "mimetype": "text/x-python",
   "name": "python",
   "nbconvert_exporter": "python",
   "pygments_lexer": "ipython3",
   "version": "3.9.12"
  }
 },
 "nbformat": 4,
 "nbformat_minor": 5
}
